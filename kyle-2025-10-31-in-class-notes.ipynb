{
 "cells": [
  {
   "cell_type": "code",
   "execution_count": 21,
   "id": "55226a1b",
   "metadata": {},
   "outputs": [
    {
     "name": "stdout",
     "output_type": "stream",
     "text": [
      "lxml running\n"
     ]
    }
   ],
   "source": [
    "import xml.etree.ElementTree as ET\n",
    "\n",
    "try:\n",
    "    from lxml import etree\n",
    "    print('lxml running')\n",
    "except:\n",
    "    print('no lxml')"
   ]
  },
  {
   "cell_type": "code",
   "execution_count": 22,
   "id": "51d14276",
   "metadata": {},
   "outputs": [],
   "source": [
    "from pathlib import Path\n",
    "import re"
   ]
  },
  {
   "cell_type": "code",
   "execution_count": 23,
   "id": "b792c42a",
   "metadata": {},
   "outputs": [],
   "source": [
    "MODS_collection_5 = Path('//Users/kylestocksdale/Documents/umich/courses/4_Fall_25/676/week9/data_xml/2018_lcwa_MODS_5.xml')"
   ]
  },
  {
   "cell_type": "code",
   "execution_count": 24,
   "id": "c6666682",
   "metadata": {},
   "outputs": [],
   "source": [
    "mods = etree.parse(MODS_collection_5)\n",
    "metadata = mods.getroot()"
   ]
  },
  {
   "cell_type": "code",
   "execution_count": 25,
   "id": "b6526d5d",
   "metadata": {},
   "outputs": [
    {
     "name": "stdout",
     "output_type": "stream",
     "text": [
      "['{http://www.loc.gov/mods/v3}mods', '{http://www.loc.gov/mods/v3}mods', '{http://www.loc.gov/mods/v3}mods', '{http://www.loc.gov/mods/v3}mods', '{http://www.loc.gov/mods/v3}mods']\n"
     ]
    }
   ],
   "source": [
    "tags = [getattr(item, \"tag\", None) for item in metadata]\n",
    "print(tags)"
   ]
  },
  {
   "cell_type": "code",
   "execution_count": 26,
   "id": "cb2da534",
   "metadata": {},
   "outputs": [
    {
     "name": "stdout",
     "output_type": "stream",
     "text": [
      "{http://www.loc.gov/mods/v3}languageTerm 247\n"
     ]
    }
   ],
   "source": [
    "el_count = 0\n",
    "\n",
    "for element in metadata.iter():\n",
    "    el_count += 1\n",
    "print(element.tag, el_count)"
   ]
  },
  {
   "cell_type": "code",
   "execution_count": 27,
   "id": "8124445c",
   "metadata": {},
   "outputs": [],
   "source": [
    "ns = {\n",
    "    'mods': 'http://www.loc.gov/mods/v3',\n",
    "    'ead3' : 'http://ead3.archivists.org/schema/'\n",
    "}"
   ]
  },
  {
   "cell_type": "code",
   "execution_count": 28,
   "id": "a179739b",
   "metadata": {},
   "outputs": [
    {
     "name": "stdout",
     "output_type": "stream",
     "text": [
      "{http://www.loc.gov/mods/v3}identifier lcwaN0010234 {}\n",
      "{http://www.loc.gov/mods/v3}identifier 85999 {'invalid': 'yes', 'type': 'database id'}\n",
      "{http://www.loc.gov/mods/v3}identifier 109353 {'invalid': 'yes', 'type': 'database id'}\n",
      "{http://www.loc.gov/mods/v3}identifier http://www.slate.com/ {'displayLabel': 'Access URL', 'type': 'uri'}\n",
      "{http://www.loc.gov/mods/v3}identifier 15046 {'type': 'database id'}\n",
      "{http://www.loc.gov/mods/v3}identifier lcwaN0001999 {}\n",
      "{http://www.loc.gov/mods/v3}identifier 91224 {'invalid': 'yes', 'type': 'database id'}\n",
      "{http://www.loc.gov/mods/v3}identifier 109272 {'invalid': 'yes', 'type': 'database id'}\n",
      "{http://www.loc.gov/mods/v3}identifier http://rawstory.com/ {'displayLabel': 'Access URL', 'type': 'uri'}\n",
      "{http://www.loc.gov/mods/v3}identifier 2771 {'type': 'database id'}\n",
      "{http://www.loc.gov/mods/v3}identifier lcwaN0003238 {}\n",
      "{http://www.loc.gov/mods/v3}identifier 91275 {'invalid': 'yes', 'type': 'database id'}\n",
      "{http://www.loc.gov/mods/v3}identifier 109273 {'invalid': 'yes', 'type': 'database id'}\n",
      "{http://www.loc.gov/mods/v3}identifier 96782 {'invalid': 'yes', 'type': 'database id'}\n",
      "{http://www.loc.gov/mods/v3}identifier http://www.huffingtonpost.com/ {'displayLabel': 'Access URL', 'type': 'uri'}\n",
      "{http://www.loc.gov/mods/v3}identifier 4619 {'type': 'database id'}\n",
      "{http://www.loc.gov/mods/v3}identifier lcwaN0010144 {}\n",
      "{http://www.loc.gov/mods/v3}identifier nan {'invalid': 'yes', 'type': 'database id'}\n",
      "{http://www.loc.gov/mods/v3}identifier https://medium.com/buzzfeed-collections {'displayLabel': 'Access URL', 'type': 'uri'}\n",
      "{http://www.loc.gov/mods/v3}identifier 24463 {'type': 'database id'}\n",
      "{http://www.loc.gov/mods/v3}identifier http://www.buzzfeed.com/ {'displayLabel': 'Access URL', 'type': 'uri'}\n",
      "{http://www.loc.gov/mods/v3}identifier 14906 {'type': 'database id'}\n",
      "{http://www.loc.gov/mods/v3}identifier lcwaN0010145 {}\n",
      "{http://www.loc.gov/mods/v3}identifier 82949 {'invalid': 'yes', 'type': 'database id'}\n",
      "{http://www.loc.gov/mods/v3}identifier 109227 {'invalid': 'yes', 'type': 'database id'}\n",
      "{http://www.loc.gov/mods/v3}identifier http://www.drudgereport.com/ {'displayLabel': 'Access URL', 'type': 'uri'}\n",
      "{http://www.loc.gov/mods/v3}identifier 14951 {'type': 'database id'}\n"
     ]
    }
   ],
   "source": [
    "# Look through and find the identifier each of the 5 records\n",
    "for identifier in metadata.findall('.//mods:identifier', ns):\n",
    "    element = identifier\n",
    "    print(element.tag, element.text, element.attrib)"
   ]
  },
  {
   "cell_type": "code",
   "execution_count": 30,
   "id": "fce2d695",
   "metadata": {},
   "outputs": [
    {
     "name": "stdout",
     "output_type": "stream",
     "text": [
      "{http://www.loc.gov/mods/v3}identifier http://www.slate.com/ {'displayLabel': 'Access URL', 'type': 'uri'}\n",
      "{http://www.loc.gov/mods/v3}identifier http://rawstory.com/ {'displayLabel': 'Access URL', 'type': 'uri'}\n",
      "{http://www.loc.gov/mods/v3}identifier http://www.huffingtonpost.com/ {'displayLabel': 'Access URL', 'type': 'uri'}\n",
      "{http://www.loc.gov/mods/v3}identifier https://medium.com/buzzfeed-collections {'displayLabel': 'Access URL', 'type': 'uri'}\n",
      "{http://www.loc.gov/mods/v3}identifier http://www.buzzfeed.com/ {'displayLabel': 'Access URL', 'type': 'uri'}\n",
      "{http://www.loc.gov/mods/v3}identifier http://www.drudgereport.com/ {'displayLabel': 'Access URL', 'type': 'uri'}\n"
     ]
    }
   ],
   "source": [
    "for identifier in metadata.findall('.//mods:identifier[@type=\"uri\"]', ns):\n",
    "    print(identifier.tag, identifier.text, identifier.attrib)"
   ]
  },
  {
   "cell_type": "code",
   "execution_count": 31,
   "id": "3af5624f",
   "metadata": {},
   "outputs": [
    {
     "name": "stdout",
     "output_type": "stream",
     "text": [
      "{http://www.loc.gov/mods/v3}title Slate Magazine\n",
      "{http://www.loc.gov/mods/v3}title General News on the Internet Web Archive\n",
      "{http://www.loc.gov/mods/v3}title Serial and Government Publications Division\n",
      "{http://www.loc.gov/mods/v3}title Raw Story\n",
      "{http://www.loc.gov/mods/v3}title General News on the Internet Web Archive\n",
      "{http://www.loc.gov/mods/v3}title Serial and Government Publications Division\n",
      "{http://www.loc.gov/mods/v3}title Huffington Post\n",
      "{http://www.loc.gov/mods/v3}title General News on the Internet Web Archive\n",
      "{http://www.loc.gov/mods/v3}title Serial and Government Publications Division\n",
      "{http://www.loc.gov/mods/v3}title BuzzFeed\n",
      "{http://www.loc.gov/mods/v3}title General News on the Internet Web Archive\n",
      "{http://www.loc.gov/mods/v3}title Serial and Government Publications Division\n",
      "{http://www.loc.gov/mods/v3}title Drudge Report\n",
      "{http://www.loc.gov/mods/v3}title General News on the Internet Web Archive\n",
      "{http://www.loc.gov/mods/v3}title Serial and Government Publications Division\n"
     ]
    }
   ],
   "source": [
    "# look for the title elements: titleInfor > title\n",
    "for title in metadata.findall('.//mods:titleInfo/mods:title', ns):\n",
    "    print(title.tag, title.text)"
   ]
  },
  {
   "cell_type": "code",
   "execution_count": 33,
   "id": "a847b7d1",
   "metadata": {},
   "outputs": [
    {
     "name": "stdout",
     "output_type": "stream",
     "text": [
      "Slate Magazine\n",
      "Raw Story\n",
      "Huffington Post\n",
      "BuzzFeed\n",
      "Drudge Report\n"
     ]
    }
   ],
   "source": [
    "for mods in metadata.findall('.//mods:mods', ns):\n",
    "    title = mods.find('.//mods:titleInfo/mods:title', ns)\n",
    "    if title is not None:\n",
    "        print(title.text)"
   ]
  }
 ],
 "metadata": {
  "kernelspec": {
   "display_name": "Python 3",
   "language": "python",
   "name": "python3"
  },
  "language_info": {
   "codemirror_mode": {
    "name": "ipython",
    "version": 3
   },
   "file_extension": ".py",
   "mimetype": "text/x-python",
   "name": "python",
   "nbconvert_exporter": "python",
   "pygments_lexer": "ipython3",
   "version": "3.12.5"
  }
 },
 "nbformat": 4,
 "nbformat_minor": 5
}

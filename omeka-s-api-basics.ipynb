{
 "cells": [
  {
   "cell_type": "markdown",
   "metadata": {},
   "source": [
    "# Accessing the Omeka S API\n",
    "\n",
    "Some examples for an initial exploration of the Omeka S API.\n",
    "For reference, the Omeka S documentation can be accessed at https://omeka.org/s/docs/developer/api/rest_api/.\n",
    "See [this post](https://forum.omeka.org/t/example-api-usage-using-curl/8083) on using `curl` to query the API.\n",
    "\n",
    "While any public objects can be accessed or viewed in the API, private data and write or modify\n",
    "options require an access key. In these examples, the access key is in `../collection-project/omeka-credentials.json`.\n",
    "\n",
    "## Setup"
   ]
  },
  {
   "cell_type": "code",
   "execution_count": 1,
   "metadata": {},
   "outputs": [],
   "source": [
    "import requests\n",
    "import json"
   ]
  },
  {
   "cell_type": "code",
   "execution_count": 2,
   "metadata": {},
   "outputs": [],
   "source": [
    "# establish API location/endpoints\n",
    "\n",
    "siteUrl = 'http://jajohnst.si676.si.umich.edu/omeka-s' # if you replicate this example, provide the URI for your site\n",
    "endpoint = '/api'"
   ]
  },
  {
   "cell_type": "markdown",
   "metadata": {},
   "source": [
    "### Get Credentials\n",
    "\n",
    "Not necessary for most operations, but it is useful to see one way to address this process."
   ]
  },
  {
   "cell_type": "code",
   "execution_count": 3,
   "metadata": {},
   "outputs": [],
   "source": [
    "def get_credentials(credential_file_path):\n",
    "    '''Retrieve Omeka S Api credentials from another file. \n",
    "    That file must be a JSON file.'''\n",
    "\n",
    "    with open(credential_file_path, 'r') as credentials:\n",
    "        keys = json.load(credentials)\n",
    "    \n",
    "    return keys['key_identity'], keys['key_credential']"
   ]
  },
  {
   "cell_type": "code",
   "execution_count": 5,
   "metadata": {},
   "outputs": [
    {
     "name": "stdout",
     "output_type": "stream",
     "text": [
      "key_identity: yAu5NAEEtJCvGx4s8XgJSgvTFjwvLD6j \n",
      "key_credential: nj0K6JAqnFgeqyP3Kq40SOhl6fiPBXky\n"
     ]
    }
   ],
   "source": [
    "# retrieve API credentials\n",
    "\n",
    "credential_file_path = '/Users/kylestocksdale/Documents/umich/courses/4_Fall_25/676/si676-2025-data/collection-site-materials/omeka-credentials.json'\n",
    "\n",
    "key_identity, key_credential = get_credentials(credential_file_path)\n",
    "\n",
    "print('key_identity:',key_identity,'\\nkey_credential:',key_credential)"
   ]
  },
  {
   "cell_type": "markdown",
   "metadata": {},
   "source": [
    "## Get item list\n",
    "\n",
    "This operation uses the `items` actions from the API.\n",
    "\n",
    "First, assemble the URI:"
   ]
  },
  {
   "cell_type": "code",
   "execution_count": 6,
   "metadata": {},
   "outputs": [
    {
     "name": "stdout",
     "output_type": "stream",
     "text": [
      "http://jajohnst.si676.si.umich.edu/omeka-s/api/items\n"
     ]
    }
   ],
   "source": [
    "action = '/items'\n",
    "\n",
    "r_url = siteUrl + endpoint + action\n",
    "\n",
    "print(r_url)"
   ]
  },
  {
   "cell_type": "markdown",
   "metadata": {},
   "source": [
    "Then, set up parameters:"
   ]
  },
  {
   "cell_type": "code",
   "execution_count": 7,
   "metadata": {},
   "outputs": [],
   "source": [
    "parameters = {\n",
    "    'key_credential': key_credential,\n",
    "    'key_identity':   key_identity,\n",
    "    'pretty_print':   1,\n",
    "    'format':         'jsonld'\n",
    "}"
   ]
  },
  {
   "cell_type": "code",
   "execution_count": 8,
   "metadata": {},
   "outputs": [
    {
     "name": "stdout",
     "output_type": "stream",
     "text": [
      "http://jajohnst.si676.si.umich.edu/omeka-s/api/items?key_credential=nj0K6JAqnFgeqyP3Kq40SOhl6fiPBXky&key_identity=yAu5NAEEtJCvGx4s8XgJSgvTFjwvLD6j&pretty_print=1&format=jsonld\n",
      "200\n"
     ]
    }
   ],
   "source": [
    "r = requests.get(r_url, params=parameters)\n",
    "\n",
    "print(r.url)\n",
    "print(r.status_code)"
   ]
  },
  {
   "cell_type": "markdown",
   "metadata": {},
   "source": [
    "Take a look at the response (using requests built-in `json` parser):"
   ]
  },
  {
   "cell_type": "code",
   "execution_count": 9,
   "metadata": {},
   "outputs": [
    {
     "data": {
      "text/plain": [
       "25"
      ]
     },
     "execution_count": 9,
     "metadata": {},
     "output_type": "execute_result"
    }
   ],
   "source": [
    "len(r.json())"
   ]
  },
  {
   "cell_type": "code",
   "execution_count": 10,
   "metadata": {},
   "outputs": [
    {
     "name": "stdout",
     "output_type": "stream",
     "text": [
      "{'@context': 'http://jajohnst.si676.si.umich.edu/omeka-s/api-context', '@id': 'http://jajohnst.si676.si.umich.edu/omeka-s/api/items/98', '@type': ['o:Item', 'dctype:Image'], 'o:id': 98, 'o:is_public': True, 'o:owner': {'@id': 'http://jajohnst.si676.si.umich.edu/omeka-s/api/users/1', 'o:id': 1}, 'o:resource_class': {'@id': 'http://jajohnst.si676.si.umich.edu/omeka-s/api/resource_classes/26', 'o:id': 26}, 'o:resource_template': None, 'o:thumbnail': None, 'o:title': 'Carnegie Library, Cordele, Georgia', 'thumbnail_display_urls': {'large': 'http://jajohnst.si676.si.umich.edu/omeka-s/files/large/8bb5e0ea9033a8059a45b022ebb0d6e5b7a98017.jpg', 'medium': 'http://jajohnst.si676.si.umich.edu/omeka-s/files/medium/8bb5e0ea9033a8059a45b022ebb0d6e5b7a98017.jpg', 'square': 'http://jajohnst.si676.si.umich.edu/omeka-s/files/square/8bb5e0ea9033a8059a45b022ebb0d6e5b7a98017.jpg'}, 'o:created': {'@value': '2025-10-30T21:31:40+00:00', '@type': 'http://www.w3.org/2001/XMLSchema#dateTime'}, 'o:modified': {'@value': '2025-10-30T21:42:51+00:00', '@type': 'http://www.w3.org/2001/XMLSchema#dateTime'}, 'o:primary_media': {'@id': 'http://jajohnst.si676.si.umich.edu/omeka-s/api/media/109', 'o:id': 109}, 'o:media': [{'@id': 'http://jajohnst.si676.si.umich.edu/omeka-s/api/media/109', 'o:id': 109}], 'o:item_set': [{'@id': 'http://jajohnst.si676.si.umich.edu/omeka-s/api/item_sets/194', 'o:id': 194}], 'o:site': [{'@id': 'http://jajohnst.si676.si.umich.edu/omeka-s/api/sites/1', 'o:id': 1}], 'dcterms:title': [{'type': 'literal', 'property_id': 1, 'property_label': 'Title', 'is_public': True, '@value': 'Carnegie Library, Cordele, Georgia', '@language': 'en'}], 'dcterms:identifier': [{'type': 'literal', 'property_id': 10, 'property_label': 'Identifier', 'is_public': True, '@value': '91787443'}, {'type': 'literal', 'property_id': 10, 'property_label': 'Identifier', 'is_public': True, '@value': 'https://www.loc.gov/item/91787443/'}], 'dcterms:created': [{'type': 'literal', 'property_id': 20, 'property_label': 'Date Created', 'is_public': True, '@value': '1916-01-01'}], 'dcterms:type': [{'type': 'literal', 'property_id': 8, 'property_label': 'Type', 'is_public': True, '@value': 'Image'}], 'dcterms:rights': [{'type': 'literal', 'property_id': 15, 'property_label': 'Rights', 'is_public': True, '@value': 'No known restrictions on publication.'}]}\n",
      "{'@context': 'http://jajohnst.si676.si.umich.edu/omeka-s/api-context', '@id': 'http://jajohnst.si676.si.umich.edu/omeka-s/api/items/99', '@type': ['o:Item', 'dctype:Image'], 'o:id': 99, 'o:is_public': True, 'o:owner': {'@id': 'http://jajohnst.si676.si.umich.edu/omeka-s/api/users/1', 'o:id': 1}, 'o:resource_class': {'@id': 'http://jajohnst.si676.si.umich.edu/omeka-s/api/resource_classes/26', 'o:id': 26}, 'o:resource_template': None, 'o:thumbnail': None, 'o:title': 'Carnegie Library, Sheldon, Iowa', 'thumbnail_display_urls': {'large': 'http://jajohnst.si676.si.umich.edu/omeka-s/files/large/92f7450502a049eb31e516f7462375d36a2eaf99.jpg', 'medium': 'http://jajohnst.si676.si.umich.edu/omeka-s/files/medium/92f7450502a049eb31e516f7462375d36a2eaf99.jpg', 'square': 'http://jajohnst.si676.si.umich.edu/omeka-s/files/square/92f7450502a049eb31e516f7462375d36a2eaf99.jpg'}, 'o:created': {'@value': '2025-10-30T21:31:40+00:00', '@type': 'http://www.w3.org/2001/XMLSchema#dateTime'}, 'o:modified': {'@value': '2025-10-30T21:42:51+00:00', '@type': 'http://www.w3.org/2001/XMLSchema#dateTime'}, 'o:primary_media': {'@id': 'http://jajohnst.si676.si.umich.edu/omeka-s/api/media/110', 'o:id': 110}, 'o:media': [{'@id': 'http://jajohnst.si676.si.umich.edu/omeka-s/api/media/110', 'o:id': 110}], 'o:item_set': [{'@id': 'http://jajohnst.si676.si.umich.edu/omeka-s/api/item_sets/194', 'o:id': 194}], 'o:site': [{'@id': 'http://jajohnst.si676.si.umich.edu/omeka-s/api/sites/1', 'o:id': 1}], 'dcterms:title': [{'type': 'literal', 'property_id': 1, 'property_label': 'Title', 'is_public': True, '@value': 'Carnegie Library, Sheldon, Iowa', '@language': 'en'}], 'dcterms:identifier': [{'type': 'literal', 'property_id': 10, 'property_label': 'Identifier', 'is_public': True, '@value': '97511671'}, {'type': 'literal', 'property_id': 10, 'property_label': 'Identifier', 'is_public': True, '@value': 'https://www.loc.gov/item/97511671/'}], 'dcterms:created': [{'type': 'literal', 'property_id': 20, 'property_label': 'Date Created', 'is_public': True, '@value': '1909-01-01'}], 'dcterms:type': [{'type': 'literal', 'property_id': 8, 'property_label': 'Type', 'is_public': True, '@value': 'Image'}], 'dcterms:rights': [{'type': 'literal', 'property_id': 15, 'property_label': 'Rights', 'is_public': True, '@value': 'Undetermined'}]}\n",
      "{'@context': 'http://jajohnst.si676.si.umich.edu/omeka-s/api-context', '@id': 'http://jajohnst.si676.si.umich.edu/omeka-s/api/items/100', '@type': ['o:Item', 'dctype:Image'], 'o:id': 100, 'o:is_public': True, 'o:owner': {'@id': 'http://jajohnst.si676.si.umich.edu/omeka-s/api/users/1', 'o:id': 1}, 'o:resource_class': {'@id': 'http://jajohnst.si676.si.umich.edu/omeka-s/api/resource_classes/26', 'o:id': 26}, 'o:resource_template': None, 'o:thumbnail': None, 'o:title': 'Curb service 10,000 current books - convenient, free, time saving : Chicago Public Library, Randolph St. corridor.', 'thumbnail_display_urls': {'large': 'http://jajohnst.si676.si.umich.edu/omeka-s/files/large/4d201e2837be3f2014b5126a00a316c0f65dbdf6.jpg', 'medium': 'http://jajohnst.si676.si.umich.edu/omeka-s/files/medium/4d201e2837be3f2014b5126a00a316c0f65dbdf6.jpg', 'square': 'http://jajohnst.si676.si.umich.edu/omeka-s/files/square/4d201e2837be3f2014b5126a00a316c0f65dbdf6.jpg'}, 'o:created': {'@value': '2025-10-30T21:31:41+00:00', '@type': 'http://www.w3.org/2001/XMLSchema#dateTime'}, 'o:modified': {'@value': '2025-10-30T21:42:51+00:00', '@type': 'http://www.w3.org/2001/XMLSchema#dateTime'}, 'o:primary_media': {'@id': 'http://jajohnst.si676.si.umich.edu/omeka-s/api/media/111', 'o:id': 111}, 'o:media': [{'@id': 'http://jajohnst.si676.si.umich.edu/omeka-s/api/media/111', 'o:id': 111}], 'o:item_set': [{'@id': 'http://jajohnst.si676.si.umich.edu/omeka-s/api/item_sets/194', 'o:id': 194}], 'o:site': [{'@id': 'http://jajohnst.si676.si.umich.edu/omeka-s/api/sites/1', 'o:id': 1}], 'dcterms:title': [{'type': 'literal', 'property_id': 1, 'property_label': 'Title', 'is_public': True, '@value': 'Curb service 10,000 current books - convenient, free, time saving : Chicago Public Library, Randolph St. corridor.', '@language': 'en'}], 'dcterms:identifier': [{'type': 'literal', 'property_id': 10, 'property_label': 'Identifier', 'is_public': True, '@value': '98508385'}, {'type': 'literal', 'property_id': 10, 'property_label': 'Identifier', 'is_public': True, '@value': 'https://www.loc.gov/item/98508385/'}], 'dcterms:created': [{'type': 'literal', 'property_id': 20, 'property_label': 'Date Created', 'is_public': True, '@value': '1936-01-01'}], 'dcterms:type': [{'type': 'literal', 'property_id': 8, 'property_label': 'Type', 'is_public': True, '@value': 'Image'}], 'dcterms:rights': [{'type': 'literal', 'property_id': 15, 'property_label': 'Rights', 'is_public': True, '@value': 'No known restrictions on publication.'}]}\n",
      "{'@context': 'http://jajohnst.si676.si.umich.edu/omeka-s/api-context', '@id': 'http://jajohnst.si676.si.umich.edu/omeka-s/api/items/101', '@type': ['o:Item', 'dctype:Image'], 'o:id': 101, 'o:is_public': True, 'o:owner': {'@id': 'http://jajohnst.si676.si.umich.edu/omeka-s/api/users/1', 'o:id': 1}, 'o:resource_class': {'@id': 'http://jajohnst.si676.si.umich.edu/omeka-s/api/resource_classes/26', 'o:id': 26}, 'o:resource_template': None, 'o:thumbnail': None, 'o:title': 'For greater knowledge on more subjects use your library more often', 'thumbnail_display_urls': {'large': 'http://jajohnst.si676.si.umich.edu/omeka-s/files/large/4eeef9b7ae16773846c7a43b76457e9f22888028.jpg', 'medium': 'http://jajohnst.si676.si.umich.edu/omeka-s/files/medium/4eeef9b7ae16773846c7a43b76457e9f22888028.jpg', 'square': 'http://jajohnst.si676.si.umich.edu/omeka-s/files/square/4eeef9b7ae16773846c7a43b76457e9f22888028.jpg'}, 'o:created': {'@value': '2025-10-30T21:31:41+00:00', '@type': 'http://www.w3.org/2001/XMLSchema#dateTime'}, 'o:modified': {'@value': '2025-10-30T21:42:51+00:00', '@type': 'http://www.w3.org/2001/XMLSchema#dateTime'}, 'o:primary_media': {'@id': 'http://jajohnst.si676.si.umich.edu/omeka-s/api/media/112', 'o:id': 112}, 'o:media': [{'@id': 'http://jajohnst.si676.si.umich.edu/omeka-s/api/media/112', 'o:id': 112}], 'o:item_set': [{'@id': 'http://jajohnst.si676.si.umich.edu/omeka-s/api/item_sets/194', 'o:id': 194}], 'o:site': [{'@id': 'http://jajohnst.si676.si.umich.edu/omeka-s/api/sites/1', 'o:id': 1}], 'dcterms:title': [{'type': 'literal', 'property_id': 1, 'property_label': 'Title', 'is_public': True, '@value': 'For greater knowledge on more subjects use your library more often', '@language': 'en'}], 'dcterms:identifier': [{'type': 'literal', 'property_id': 10, 'property_label': 'Identifier', 'is_public': True, '@value': '98508155'}, {'type': 'literal', 'property_id': 10, 'property_label': 'Identifier', 'is_public': True, '@value': 'https://www.loc.gov/item/98508155/'}], 'dcterms:created': [{'type': 'literal', 'property_id': 20, 'property_label': 'Date Created', 'is_public': True, '@value': '1936-01-01'}], 'dcterms:type': [{'type': 'literal', 'property_id': 8, 'property_label': 'Type', 'is_public': True, '@value': 'Image'}], 'dcterms:rights': [{'type': 'literal', 'property_id': 15, 'property_label': 'Rights', 'is_public': True, '@value': 'No known restrictions on publication.'}]}\n",
      "{'@context': 'http://jajohnst.si676.si.umich.edu/omeka-s/api-context', '@id': 'http://jajohnst.si676.si.umich.edu/omeka-s/api/items/102', '@type': ['o:Item', 'dctype:Image'], 'o:id': 102, 'o:is_public': True, 'o:owner': {'@id': 'http://jajohnst.si676.si.umich.edu/omeka-s/api/users/1', 'o:id': 1}, 'o:resource_class': {'@id': 'http://jajohnst.si676.si.umich.edu/omeka-s/api/resource_classes/26', 'o:id': 26}, 'o:resource_template': None, 'o:thumbnail': None, 'o:title': '[Cossitt Library, Memphis, Tenn.]', 'thumbnail_display_urls': {'large': 'http://jajohnst.si676.si.umich.edu/omeka-s/files/large/fa21378a73d9f23ec895e6cb12d675b604568895.jpg', 'medium': 'http://jajohnst.si676.si.umich.edu/omeka-s/files/medium/fa21378a73d9f23ec895e6cb12d675b604568895.jpg', 'square': 'http://jajohnst.si676.si.umich.edu/omeka-s/files/square/fa21378a73d9f23ec895e6cb12d675b604568895.jpg'}, 'o:created': {'@value': '2025-10-30T21:31:42+00:00', '@type': 'http://www.w3.org/2001/XMLSchema#dateTime'}, 'o:modified': {'@value': '2025-10-30T21:42:51+00:00', '@type': 'http://www.w3.org/2001/XMLSchema#dateTime'}, 'o:primary_media': {'@id': 'http://jajohnst.si676.si.umich.edu/omeka-s/api/media/113', 'o:id': 113}, 'o:media': [{'@id': 'http://jajohnst.si676.si.umich.edu/omeka-s/api/media/113', 'o:id': 113}], 'o:item_set': [{'@id': 'http://jajohnst.si676.si.umich.edu/omeka-s/api/item_sets/194', 'o:id': 194}], 'o:site': [{'@id': 'http://jajohnst.si676.si.umich.edu/omeka-s/api/sites/1', 'o:id': 1}], 'dcterms:title': [{'type': 'literal', 'property_id': 1, 'property_label': 'Title', 'is_public': True, '@value': '[Cossitt Library, Memphis, Tenn.]', '@language': 'en'}], 'dcterms:identifier': [{'type': 'literal', 'property_id': 10, 'property_label': 'Identifier', 'is_public': True, '@value': '2016809661'}, {'type': 'literal', 'property_id': 10, 'property_label': 'Identifier', 'is_public': True, '@value': 'https://www.loc.gov/item/2016809661/'}], 'dcterms:created': [{'type': 'literal', 'property_id': 20, 'property_label': 'Date Created', 'is_public': True, '@value': '1906-01-01'}], 'dcterms:type': [{'type': 'literal', 'property_id': 8, 'property_label': 'Type', 'is_public': True, '@value': 'Image'}], 'dcterms:rights': [{'type': 'literal', 'property_id': 15, 'property_label': 'Rights', 'is_public': True, '@value': 'No known restrictions on publication.'}]}\n",
      "{'@context': 'http://jajohnst.si676.si.umich.edu/omeka-s/api-context', '@id': 'http://jajohnst.si676.si.umich.edu/omeka-s/api/items/103', '@type': ['o:Item', 'dctype:Image'], 'o:id': 103, 'o:is_public': True, 'o:owner': {'@id': 'http://jajohnst.si676.si.umich.edu/omeka-s/api/users/1', 'o:id': 1}, 'o:resource_class': {'@id': 'http://jajohnst.si676.si.umich.edu/omeka-s/api/resource_classes/26', 'o:id': 26}, 'o:resource_template': None, 'o:thumbnail': None, 'o:title': 'Little Rock Public Library, Little Rock, Ark.', 'thumbnail_display_urls': {'large': 'http://jajohnst.si676.si.umich.edu/omeka-s/files/large/630b781b231ef1292fe885a2ca813fbea92223f4.jpg', 'medium': 'http://jajohnst.si676.si.umich.edu/omeka-s/files/medium/630b781b231ef1292fe885a2ca813fbea92223f4.jpg', 'square': 'http://jajohnst.si676.si.umich.edu/omeka-s/files/square/630b781b231ef1292fe885a2ca813fbea92223f4.jpg'}, 'o:created': {'@value': '2025-10-30T21:31:42+00:00', '@type': 'http://www.w3.org/2001/XMLSchema#dateTime'}, 'o:modified': {'@value': '2025-10-30T21:42:51+00:00', '@type': 'http://www.w3.org/2001/XMLSchema#dateTime'}, 'o:primary_media': {'@id': 'http://jajohnst.si676.si.umich.edu/omeka-s/api/media/114', 'o:id': 114}, 'o:media': [{'@id': 'http://jajohnst.si676.si.umich.edu/omeka-s/api/media/114', 'o:id': 114}], 'o:item_set': [{'@id': 'http://jajohnst.si676.si.umich.edu/omeka-s/api/item_sets/194', 'o:id': 194}], 'o:site': [{'@id': 'http://jajohnst.si676.si.umich.edu/omeka-s/api/sites/1', 'o:id': 1}], 'dcterms:title': [{'type': 'literal', 'property_id': 1, 'property_label': 'Title', 'is_public': True, '@value': 'Little Rock Public Library, Little Rock, Ark.', '@language': 'en'}], 'dcterms:identifier': [{'type': 'literal', 'property_id': 10, 'property_label': 'Identifier', 'is_public': True, '@value': '2016815290'}, {'type': 'literal', 'property_id': 10, 'property_label': 'Identifier', 'is_public': True, '@value': 'https://www.loc.gov/item/2016815290/'}], 'dcterms:created': [{'type': 'literal', 'property_id': 20, 'property_label': 'Date Created', 'is_public': True, '@value': '1905-01-01'}], 'dcterms:type': [{'type': 'literal', 'property_id': 8, 'property_label': 'Type', 'is_public': True, '@value': 'Image'}], 'dcterms:rights': [{'type': 'literal', 'property_id': 15, 'property_label': 'Rights', 'is_public': True, '@value': 'No known restrictions on publication.'}]}\n",
      "{'@context': 'http://jajohnst.si676.si.umich.edu/omeka-s/api-context', '@id': 'http://jajohnst.si676.si.umich.edu/omeka-s/api/items/104', '@type': ['o:Item', 'dctype:Image'], 'o:id': 104, 'o:is_public': True, 'o:owner': {'@id': 'http://jajohnst.si676.si.umich.edu/omeka-s/api/users/1', 'o:id': 1}, 'o:resource_class': {'@id': 'http://jajohnst.si676.si.umich.edu/omeka-s/api/resource_classes/26', 'o:id': 26}, 'o:resource_template': None, 'o:thumbnail': None, 'o:title': 'Newspaper reading room of public library. Omaha, Nebraska', 'thumbnail_display_urls': {'large': 'http://jajohnst.si676.si.umich.edu/omeka-s/files/large/12e674b9710cb5a9022af0abbed0a0f38c2d0cbb.jpg', 'medium': 'http://jajohnst.si676.si.umich.edu/omeka-s/files/medium/12e674b9710cb5a9022af0abbed0a0f38c2d0cbb.jpg', 'square': 'http://jajohnst.si676.si.umich.edu/omeka-s/files/square/12e674b9710cb5a9022af0abbed0a0f38c2d0cbb.jpg'}, 'o:created': {'@value': '2025-10-30T21:31:42+00:00', '@type': 'http://www.w3.org/2001/XMLSchema#dateTime'}, 'o:modified': {'@value': '2025-10-30T21:42:51+00:00', '@type': 'http://www.w3.org/2001/XMLSchema#dateTime'}, 'o:primary_media': {'@id': 'http://jajohnst.si676.si.umich.edu/omeka-s/api/media/115', 'o:id': 115}, 'o:media': [{'@id': 'http://jajohnst.si676.si.umich.edu/omeka-s/api/media/115', 'o:id': 115}], 'o:item_set': [{'@id': 'http://jajohnst.si676.si.umich.edu/omeka-s/api/item_sets/194', 'o:id': 194}], 'o:site': [{'@id': 'http://jajohnst.si676.si.umich.edu/omeka-s/api/sites/1', 'o:id': 1}], 'dcterms:title': [{'type': 'literal', 'property_id': 1, 'property_label': 'Title', 'is_public': True, '@value': 'Newspaper reading room of public library. Omaha, Nebraska', '@language': 'en'}], 'dcterms:identifier': [{'type': 'literal', 'property_id': 10, 'property_label': 'Identifier', 'is_public': True, '@value': '2017762724'}, {'type': 'literal', 'property_id': 10, 'property_label': 'Identifier', 'is_public': True, '@value': 'https://www.loc.gov/item/2017762724/'}], 'dcterms:created': [{'type': 'literal', 'property_id': 20, 'property_label': 'Date Created', 'is_public': True, '@value': '1938-01-01'}], 'dcterms:type': [{'type': 'literal', 'property_id': 8, 'property_label': 'Type', 'is_public': True, '@value': 'Image'}], 'dcterms:rights': [{'type': 'literal', 'property_id': 15, 'property_label': 'Rights', 'is_public': True, '@value': 'No known restrictions. For information, see U.S. Farm Security Administration/Office of War Information Black & White Photographs https://www.loc.gov/rr/print/res/071_fsab.html'}]}\n",
      "{'@context': 'http://jajohnst.si676.si.umich.edu/omeka-s/api-context', '@id': 'http://jajohnst.si676.si.umich.edu/omeka-s/api/items/105', '@type': ['o:Item', 'dctype:Image'], 'o:id': 105, 'o:is_public': True, 'o:owner': {'@id': 'http://jajohnst.si676.si.umich.edu/omeka-s/api/users/1', 'o:id': 1}, 'o:resource_class': {'@id': 'http://jajohnst.si676.si.umich.edu/omeka-s/api/resource_classes/26', 'o:id': 26}, 'o:resource_template': None, 'o:thumbnail': None, 'o:title': 'Public library in the southwestern section of Mississippi, in the piney woods', 'thumbnail_display_urls': {'large': 'http://jajohnst.si676.si.umich.edu/omeka-s/files/large/e397ac22b4b2d35197026ad7d9c975558ed017f4.jpg', 'medium': 'http://jajohnst.si676.si.umich.edu/omeka-s/files/medium/e397ac22b4b2d35197026ad7d9c975558ed017f4.jpg', 'square': 'http://jajohnst.si676.si.umich.edu/omeka-s/files/square/e397ac22b4b2d35197026ad7d9c975558ed017f4.jpg'}, 'o:created': {'@value': '2025-10-30T21:31:43+00:00', '@type': 'http://www.w3.org/2001/XMLSchema#dateTime'}, 'o:modified': {'@value': '2025-10-30T21:42:51+00:00', '@type': 'http://www.w3.org/2001/XMLSchema#dateTime'}, 'o:primary_media': {'@id': 'http://jajohnst.si676.si.umich.edu/omeka-s/api/media/116', 'o:id': 116}, 'o:media': [{'@id': 'http://jajohnst.si676.si.umich.edu/omeka-s/api/media/116', 'o:id': 116}], 'o:item_set': [{'@id': 'http://jajohnst.si676.si.umich.edu/omeka-s/api/item_sets/194', 'o:id': 194}], 'o:site': [{'@id': 'http://jajohnst.si676.si.umich.edu/omeka-s/api/sites/1', 'o:id': 1}], 'dcterms:title': [{'type': 'literal', 'property_id': 1, 'property_label': 'Title', 'is_public': True, '@value': 'Public library in the southwestern section of Mississippi, in the piney woods', '@language': 'en'}], 'dcterms:identifier': [{'type': 'literal', 'property_id': 10, 'property_label': 'Identifier', 'is_public': True, '@value': '2017770391'}, {'type': 'literal', 'property_id': 10, 'property_label': 'Identifier', 'is_public': True, '@value': 'https://www.loc.gov/item/2017770391/'}], 'dcterms:created': [{'type': 'literal', 'property_id': 20, 'property_label': 'Date Created', 'is_public': True, '@value': '1937-01-01'}], 'dcterms:type': [{'type': 'literal', 'property_id': 8, 'property_label': 'Type', 'is_public': True, '@value': 'Image'}], 'dcterms:rights': [{'type': 'literal', 'property_id': 15, 'property_label': 'Rights', 'is_public': True, '@value': 'No known restrictions. For information, see U.S. Farm Security Administration/Office of War Information Black & White Photographs https://www.loc.gov/rr/print/res/071_fsab.html'}]}\n",
      "{'@context': 'http://jajohnst.si676.si.umich.edu/omeka-s/api-context', '@id': 'http://jajohnst.si676.si.umich.edu/omeka-s/api/items/106', '@type': ['o:Item', 'dctype:Image'], 'o:id': 106, 'o:is_public': True, 'o:owner': {'@id': 'http://jajohnst.si676.si.umich.edu/omeka-s/api/users/1', 'o:id': 1}, 'o:resource_class': {'@id': 'http://jajohnst.si676.si.umich.edu/omeka-s/api/resource_classes/26', 'o:id': 26}, 'o:resource_template': None, 'o:thumbnail': None, 'o:title': 'Library tent at the FSA (Farm Security Administration) mobile camp for migratory farm workers. Odell, Oregon. The girls working in the library receive credit in the Junior Campers League for work in the library', 'thumbnail_display_urls': {'large': 'http://jajohnst.si676.si.umich.edu/omeka-s/files/large/99b78e91c60776dd35805694117f06d86c82d72a.jpg', 'medium': 'http://jajohnst.si676.si.umich.edu/omeka-s/files/medium/99b78e91c60776dd35805694117f06d86c82d72a.jpg', 'square': 'http://jajohnst.si676.si.umich.edu/omeka-s/files/square/99b78e91c60776dd35805694117f06d86c82d72a.jpg'}, 'o:created': {'@value': '2025-10-30T21:31:43+00:00', '@type': 'http://www.w3.org/2001/XMLSchema#dateTime'}, 'o:modified': {'@value': '2025-10-30T21:42:51+00:00', '@type': 'http://www.w3.org/2001/XMLSchema#dateTime'}, 'o:primary_media': {'@id': 'http://jajohnst.si676.si.umich.edu/omeka-s/api/media/117', 'o:id': 117}, 'o:media': [{'@id': 'http://jajohnst.si676.si.umich.edu/omeka-s/api/media/117', 'o:id': 117}], 'o:item_set': [{'@id': 'http://jajohnst.si676.si.umich.edu/omeka-s/api/item_sets/194', 'o:id': 194}], 'o:site': [{'@id': 'http://jajohnst.si676.si.umich.edu/omeka-s/api/sites/1', 'o:id': 1}], 'dcterms:title': [{'type': 'literal', 'property_id': 1, 'property_label': 'Title', 'is_public': True, '@value': 'Library tent at the FSA (Farm Security Administration) mobile camp for migratory farm workers. Odell, Oregon. The girls working in the library receive credit in the Junior Campers League for work in the library', '@language': 'en'}], 'dcterms:identifier': [{'type': 'literal', 'property_id': 10, 'property_label': 'Identifier', 'is_public': True, '@value': '2017815837'}, {'type': 'literal', 'property_id': 10, 'property_label': 'Identifier', 'is_public': True, '@value': 'https://www.loc.gov/item/2017815837/'}], 'dcterms:created': [{'type': 'literal', 'property_id': 20, 'property_label': 'Date Created', 'is_public': True, '@value': '1941-01-01'}], 'dcterms:type': [{'type': 'literal', 'property_id': 8, 'property_label': 'Type', 'is_public': True, '@value': 'Image'}], 'dcterms:rights': [{'type': 'literal', 'property_id': 15, 'property_label': 'Rights', 'is_public': True, '@value': 'No known restrictions. For information, see U.S. Farm Security Administration/Office of War Information Black & White Photographs https://www.loc.gov/rr/print/res/071_fsab.html'}]}\n",
      "{'@context': 'http://jajohnst.si676.si.umich.edu/omeka-s/api-context', '@id': 'http://jajohnst.si676.si.umich.edu/omeka-s/api/items/107', '@type': ['o:Item', 'dctype:Image'], 'o:id': 107, 'o:is_public': True, 'o:owner': {'@id': 'http://jajohnst.si676.si.umich.edu/omeka-s/api/users/1', 'o:id': 1}, 'o:resource_class': {'@id': 'http://jajohnst.si676.si.umich.edu/omeka-s/api/resource_classes/26', 'o:id': 26}, 'o:resource_template': None, 'o:thumbnail': None, 'o:title': 'Daytona Beach, Florida. Bethune-Cookman College. Students in the library reading room', 'thumbnail_display_urls': {'large': 'http://jajohnst.si676.si.umich.edu/omeka-s/files/large/ee99641283e72f2a8afc7f2f3913086e51bf28e3.jpg', 'medium': 'http://jajohnst.si676.si.umich.edu/omeka-s/files/medium/ee99641283e72f2a8afc7f2f3913086e51bf28e3.jpg', 'square': 'http://jajohnst.si676.si.umich.edu/omeka-s/files/square/ee99641283e72f2a8afc7f2f3913086e51bf28e3.jpg'}, 'o:created': {'@value': '2025-10-30T21:31:43+00:00', '@type': 'http://www.w3.org/2001/XMLSchema#dateTime'}, 'o:modified': {'@value': '2025-10-30T21:42:51+00:00', '@type': 'http://www.w3.org/2001/XMLSchema#dateTime'}, 'o:primary_media': {'@id': 'http://jajohnst.si676.si.umich.edu/omeka-s/api/media/118', 'o:id': 118}, 'o:media': [{'@id': 'http://jajohnst.si676.si.umich.edu/omeka-s/api/media/118', 'o:id': 118}], 'o:item_set': [{'@id': 'http://jajohnst.si676.si.umich.edu/omeka-s/api/item_sets/194', 'o:id': 194}], 'o:site': [{'@id': 'http://jajohnst.si676.si.umich.edu/omeka-s/api/sites/1', 'o:id': 1}], 'dcterms:title': [{'type': 'literal', 'property_id': 1, 'property_label': 'Title', 'is_public': True, '@value': 'Daytona Beach, Florida. Bethune-Cookman College. Students in the library reading room', '@language': 'en'}], 'dcterms:identifier': [{'type': 'literal', 'property_id': 10, 'property_label': 'Identifier', 'is_public': True, '@value': '2017843202'}, {'type': 'literal', 'property_id': 10, 'property_label': 'Identifier', 'is_public': True, '@value': 'https://www.loc.gov/item/2017843202/'}], 'dcterms:created': [{'type': 'literal', 'property_id': 20, 'property_label': 'Date Created', 'is_public': True, '@value': '1943-01-01'}], 'dcterms:type': [{'type': 'literal', 'property_id': 8, 'property_label': 'Type', 'is_public': True, '@value': 'Image'}], 'dcterms:rights': [{'type': 'literal', 'property_id': 15, 'property_label': 'Rights', 'is_public': True, '@value': 'No known restrictions. For information, see U.S. Farm Security Administration/Office of War Information Black & White Photographs https://www.loc.gov/rr/print/res/071_fsab.html'}]}\n",
      "{'@context': 'http://jajohnst.si676.si.umich.edu/omeka-s/api-context', '@id': 'http://jajohnst.si676.si.umich.edu/omeka-s/api/items/108', '@type': ['o:Item', 'dctype:Image'], 'o:id': 108, 'o:is_public': True, 'o:owner': {'@id': 'http://jajohnst.si676.si.umich.edu/omeka-s/api/users/1', 'o:id': 1}, 'o:resource_class': {'@id': 'http://jajohnst.si676.si.umich.edu/omeka-s/api/resource_classes/26', 'o:id': 26}, 'o:resource_template': None, 'o:thumbnail': None, 'o:title': 'Libraries, Washington D.C.', 'thumbnail_display_urls': {'large': 'http://jajohnst.si676.si.umich.edu/omeka-s/files/large/7e19238b1cd007a7d0dd80ec6240b4c05ab2f086.jpg', 'medium': 'http://jajohnst.si676.si.umich.edu/omeka-s/files/medium/7e19238b1cd007a7d0dd80ec6240b4c05ab2f086.jpg', 'square': 'http://jajohnst.si676.si.umich.edu/omeka-s/files/square/7e19238b1cd007a7d0dd80ec6240b4c05ab2f086.jpg'}, 'o:created': {'@value': '2025-10-30T21:31:44+00:00', '@type': 'http://www.w3.org/2001/XMLSchema#dateTime'}, 'o:modified': {'@value': '2025-10-30T21:42:51+00:00', '@type': 'http://www.w3.org/2001/XMLSchema#dateTime'}, 'o:primary_media': {'@id': 'http://jajohnst.si676.si.umich.edu/omeka-s/api/media/119', 'o:id': 119}, 'o:media': [{'@id': 'http://jajohnst.si676.si.umich.edu/omeka-s/api/media/119', 'o:id': 119}], 'o:item_set': [{'@id': 'http://jajohnst.si676.si.umich.edu/omeka-s/api/item_sets/194', 'o:id': 194}], 'o:site': [{'@id': 'http://jajohnst.si676.si.umich.edu/omeka-s/api/sites/1', 'o:id': 1}], 'dcterms:title': [{'type': 'literal', 'property_id': 1, 'property_label': 'Title', 'is_public': True, '@value': 'Libraries, Washington D.C.', '@language': 'en'}], 'dcterms:identifier': [{'type': 'literal', 'property_id': 10, 'property_label': 'Identifier', 'is_public': True, '@value': '87694100'}, {'type': 'literal', 'property_id': 10, 'property_label': 'Identifier', 'is_public': True, '@value': 'https://www.loc.gov/item/87694100/'}], 'dcterms:created': [{'type': 'literal', 'property_id': 20, 'property_label': 'Date Created', 'is_public': True, '@value': '1926-01-01'}], 'dcterms:type': [{'type': 'literal', 'property_id': 8, 'property_label': 'Type', 'is_public': True, '@value': 'Image'}], 'dcterms:rights': [{'type': 'literal', 'property_id': 15, 'property_label': 'Rights', 'is_public': True, '@value': 'Undetermined'}]}\n",
      "{'@context': 'http://jajohnst.si676.si.umich.edu/omeka-s/api-context', '@id': 'http://jajohnst.si676.si.umich.edu/omeka-s/api/items/120', '@type': ['o:Item', 'dctype:Image'], 'o:id': 120, 'o:is_public': True, 'o:owner': {'@id': 'http://jajohnst.si676.si.umich.edu/omeka-s/api/users/1', 'o:id': 1}, 'o:resource_class': {'@id': 'http://jajohnst.si676.si.umich.edu/omeka-s/api/resource_classes/26', 'o:id': 26}, 'o:resource_template': None, 'o:thumbnail': None, 'o:title': 'George Peabody Library, formerly the Library of the Peabody Institute of the City of Baltimore, is part of the Johns Hopkins Sheridan Libraries. Baltimore, Maryland', 'thumbnail_display_urls': {'large': 'http://jajohnst.si676.si.umich.edu/omeka-s/files/large/240d96e6845844bc60502809cbfe0102a8e16ff0.jpg', 'medium': 'http://jajohnst.si676.si.umich.edu/omeka-s/files/medium/240d96e6845844bc60502809cbfe0102a8e16ff0.jpg', 'square': 'http://jajohnst.si676.si.umich.edu/omeka-s/files/square/240d96e6845844bc60502809cbfe0102a8e16ff0.jpg'}, 'o:created': {'@value': '2025-10-30T21:31:44+00:00', '@type': 'http://www.w3.org/2001/XMLSchema#dateTime'}, 'o:modified': {'@value': '2025-10-30T21:42:51+00:00', '@type': 'http://www.w3.org/2001/XMLSchema#dateTime'}, 'o:primary_media': {'@id': 'http://jajohnst.si676.si.umich.edu/omeka-s/api/media/124', 'o:id': 124}, 'o:media': [{'@id': 'http://jajohnst.si676.si.umich.edu/omeka-s/api/media/124', 'o:id': 124}], 'o:item_set': [{'@id': 'http://jajohnst.si676.si.umich.edu/omeka-s/api/item_sets/194', 'o:id': 194}], 'o:site': [{'@id': 'http://jajohnst.si676.si.umich.edu/omeka-s/api/sites/1', 'o:id': 1}], 'dcterms:title': [{'type': 'literal', 'property_id': 1, 'property_label': 'Title', 'is_public': True, '@value': 'George Peabody Library, formerly the Library of the Peabody Institute of the City of Baltimore, is part of the Johns Hopkins Sheridan Libraries. Baltimore, Maryland', '@language': 'en'}], 'dcterms:identifier': [{'type': 'literal', 'property_id': 10, 'property_label': 'Identifier', 'is_public': True, '@value': '2013646466'}, {'type': 'literal', 'property_id': 10, 'property_label': 'Identifier', 'is_public': True, '@value': 'https://www.loc.gov/item/2013646466/'}], 'dcterms:created': [{'type': 'literal', 'property_id': 20, 'property_label': 'Date Created', 'is_public': True, '@value': '2012-01-01'}], 'dcterms:type': [{'type': 'literal', 'property_id': 8, 'property_label': 'Type', 'is_public': True, '@value': 'Image'}], 'dcterms:rights': [{'type': 'literal', 'property_id': 15, 'property_label': 'Rights', 'is_public': True, '@value': 'No known restrictions on publication.'}]}\n",
      "{'@context': 'http://jajohnst.si676.si.umich.edu/omeka-s/api-context', '@id': 'http://jajohnst.si676.si.umich.edu/omeka-s/api/items/121', '@type': ['o:Item', 'dctype:Image'], 'o:id': 121, 'o:is_public': True, 'o:owner': {'@id': 'http://jajohnst.si676.si.umich.edu/omeka-s/api/users/1', 'o:id': 1}, 'o:resource_class': {'@id': 'http://jajohnst.si676.si.umich.edu/omeka-s/api/resource_classes/26', 'o:id': 26}, 'o:resource_template': None, 'o:thumbnail': None, 'o:title': 'Handley Library, Winchester, Virginia', 'thumbnail_display_urls': {'large': 'http://jajohnst.si676.si.umich.edu/omeka-s/files/large/609ecedf87ac9d89cfb275b3aa76e050c0f83108.jpg', 'medium': 'http://jajohnst.si676.si.umich.edu/omeka-s/files/medium/609ecedf87ac9d89cfb275b3aa76e050c0f83108.jpg', 'square': 'http://jajohnst.si676.si.umich.edu/omeka-s/files/square/609ecedf87ac9d89cfb275b3aa76e050c0f83108.jpg'}, 'o:created': {'@value': '2025-10-30T21:31:45+00:00', '@type': 'http://www.w3.org/2001/XMLSchema#dateTime'}, 'o:modified': {'@value': '2025-10-30T21:42:51+00:00', '@type': 'http://www.w3.org/2001/XMLSchema#dateTime'}, 'o:primary_media': {'@id': 'http://jajohnst.si676.si.umich.edu/omeka-s/api/media/125', 'o:id': 125}, 'o:media': [{'@id': 'http://jajohnst.si676.si.umich.edu/omeka-s/api/media/125', 'o:id': 125}], 'o:item_set': [{'@id': 'http://jajohnst.si676.si.umich.edu/omeka-s/api/item_sets/194', 'o:id': 194}], 'o:site': [{'@id': 'http://jajohnst.si676.si.umich.edu/omeka-s/api/sites/1', 'o:id': 1}], 'dcterms:title': [{'type': 'literal', 'property_id': 1, 'property_label': 'Title', 'is_public': True, '@value': 'Handley Library, Winchester, Virginia', '@language': 'en'}], 'dcterms:identifier': [{'type': 'literal', 'property_id': 10, 'property_label': 'Identifier', 'is_public': True, '@value': '2012630178'}, {'type': 'literal', 'property_id': 10, 'property_label': 'Identifier', 'is_public': True, '@value': 'https://www.loc.gov/item/2012630178/'}], 'dcterms:created': [{'type': 'literal', 'property_id': 20, 'property_label': 'Date Created', 'is_public': True, '@value': '2011-01-01'}], 'dcterms:type': [{'type': 'literal', 'property_id': 8, 'property_label': 'Type', 'is_public': True, '@value': 'Image'}], 'dcterms:rights': [{'type': 'literal', 'property_id': 15, 'property_label': 'Rights', 'is_public': True, '@value': 'No known restrictions on publication.'}]}\n",
      "{'@context': 'http://jajohnst.si676.si.umich.edu/omeka-s/api-context', '@id': 'http://jajohnst.si676.si.umich.edu/omeka-s/api/items/122', '@type': ['o:Item', 'dctype:Image'], 'o:id': 122, 'o:is_public': True, 'o:owner': {'@id': 'http://jajohnst.si676.si.umich.edu/omeka-s/api/users/1', 'o:id': 1}, 'o:resource_class': {'@id': 'http://jajohnst.si676.si.umich.edu/omeka-s/api/resource_classes/26', 'o:id': 26}, 'o:resource_template': None, 'o:thumbnail': None, 'o:title': 'Public library building in the town of Antonito in Conejos County, Colorado, near the New Mexico border', 'thumbnail_display_urls': {'large': 'http://jajohnst.si676.si.umich.edu/omeka-s/files/large/69b8119f938f6b3f87b9a2cff5977df021e3d4d5.jpg', 'medium': 'http://jajohnst.si676.si.umich.edu/omeka-s/files/medium/69b8119f938f6b3f87b9a2cff5977df021e3d4d5.jpg', 'square': 'http://jajohnst.si676.si.umich.edu/omeka-s/files/square/69b8119f938f6b3f87b9a2cff5977df021e3d4d5.jpg'}, 'o:created': {'@value': '2025-10-30T21:31:45+00:00', '@type': 'http://www.w3.org/2001/XMLSchema#dateTime'}, 'o:modified': {'@value': '2025-10-30T21:42:51+00:00', '@type': 'http://www.w3.org/2001/XMLSchema#dateTime'}, 'o:primary_media': {'@id': 'http://jajohnst.si676.si.umich.edu/omeka-s/api/media/126', 'o:id': 126}, 'o:media': [{'@id': 'http://jajohnst.si676.si.umich.edu/omeka-s/api/media/126', 'o:id': 126}], 'o:item_set': [{'@id': 'http://jajohnst.si676.si.umich.edu/omeka-s/api/item_sets/194', 'o:id': 194}], 'o:site': [{'@id': 'http://jajohnst.si676.si.umich.edu/omeka-s/api/sites/1', 'o:id': 1}], 'dcterms:title': [{'type': 'literal', 'property_id': 1, 'property_label': 'Title', 'is_public': True, '@value': 'Public library building in the town of Antonito in Conejos County, Colorado, near the New Mexico border', '@language': 'en'}], 'dcterms:identifier': [{'type': 'literal', 'property_id': 10, 'property_label': 'Identifier', 'is_public': True, '@value': '2017686535'}, {'type': 'literal', 'property_id': 10, 'property_label': 'Identifier', 'is_public': True, '@value': 'https://www.loc.gov/item/2017686535/'}], 'dcterms:created': [{'type': 'literal', 'property_id': 20, 'property_label': 'Date Created', 'is_public': True, '@value': '2015-01-01'}], 'dcterms:type': [{'type': 'literal', 'property_id': 8, 'property_label': 'Type', 'is_public': True, '@value': 'Image'}], 'dcterms:rights': [{'type': 'literal', 'property_id': 15, 'property_label': 'Rights', 'is_public': True, '@value': 'No known restrictions on publication.'}]}\n",
      "{'@context': 'http://jajohnst.si676.si.umich.edu/omeka-s/api-context', '@id': 'http://jajohnst.si676.si.umich.edu/omeka-s/api/items/123', '@type': ['o:Item', 'dctype:Image'], 'o:id': 123, 'o:is_public': True, 'o:owner': {'@id': 'http://jajohnst.si676.si.umich.edu/omeka-s/api/users/1', 'o:id': 1}, 'o:resource_class': {'@id': 'http://jajohnst.si676.si.umich.edu/omeka-s/api/resource_classes/26', 'o:id': 26}, 'o:resource_template': None, 'o:thumbnail': None, 'o:title': 'Modernist stairway and bookstacks inside the Allen County Public Library in Fort Wayne, Indiana', 'thumbnail_display_urls': {'large': 'http://jajohnst.si676.si.umich.edu/omeka-s/files/large/806b847a9d893575845a7c44350d61fa06efc8bf.jpg', 'medium': 'http://jajohnst.si676.si.umich.edu/omeka-s/files/medium/806b847a9d893575845a7c44350d61fa06efc8bf.jpg', 'square': 'http://jajohnst.si676.si.umich.edu/omeka-s/files/square/806b847a9d893575845a7c44350d61fa06efc8bf.jpg'}, 'o:created': {'@value': '2025-10-30T21:31:46+00:00', '@type': 'http://www.w3.org/2001/XMLSchema#dateTime'}, 'o:modified': {'@value': '2025-10-30T21:42:51+00:00', '@type': 'http://www.w3.org/2001/XMLSchema#dateTime'}, 'o:primary_media': {'@id': 'http://jajohnst.si676.si.umich.edu/omeka-s/api/media/127', 'o:id': 127}, 'o:media': [{'@id': 'http://jajohnst.si676.si.umich.edu/omeka-s/api/media/127', 'o:id': 127}], 'o:item_set': [{'@id': 'http://jajohnst.si676.si.umich.edu/omeka-s/api/item_sets/194', 'o:id': 194}], 'o:site': [{'@id': 'http://jajohnst.si676.si.umich.edu/omeka-s/api/sites/1', 'o:id': 1}], 'dcterms:title': [{'type': 'literal', 'property_id': 1, 'property_label': 'Title', 'is_public': True, '@value': 'Modernist stairway and bookstacks inside the Allen County Public Library in Fort Wayne, Indiana', '@language': 'en'}], 'dcterms:identifier': [{'type': 'literal', 'property_id': 10, 'property_label': 'Identifier', 'is_public': True, '@value': '2016631919'}, {'type': 'literal', 'property_id': 10, 'property_label': 'Identifier', 'is_public': True, '@value': 'https://www.loc.gov/item/2016631919/'}], 'dcterms:created': [{'type': 'literal', 'property_id': 20, 'property_label': 'Date Created', 'is_public': True, '@value': '2016-01-01'}], 'dcterms:type': [{'type': 'literal', 'property_id': 8, 'property_label': 'Type', 'is_public': True, '@value': 'Image'}], 'dcterms:rights': [{'type': 'literal', 'property_id': 15, 'property_label': 'Rights', 'is_public': True, '@value': 'No known restrictions on publication.'}]}\n",
      "{'@context': 'http://jajohnst.si676.si.umich.edu/omeka-s/api-context', '@id': 'http://jajohnst.si676.si.umich.edu/omeka-s/api/items/128', '@type': ['o:Item', 'dctype:Image'], 'o:id': 128, 'o:is_public': True, 'o:owner': {'@id': 'http://jajohnst.si676.si.umich.edu/omeka-s/api/users/1', 'o:id': 1}, 'o:resource_class': {'@id': 'http://jajohnst.si676.si.umich.edu/omeka-s/api/resource_classes/26', 'o:id': 26}, 'o:resource_template': None, 'o:thumbnail': None, 'o:title': 'Historic library in the North Carolina Capitol in Raleigh', 'thumbnail_display_urls': {'large': 'http://jajohnst.si676.si.umich.edu/omeka-s/files/large/21493fcf39a5487ac0df6f1c7c2dd24c93ef4087.jpg', 'medium': 'http://jajohnst.si676.si.umich.edu/omeka-s/files/medium/21493fcf39a5487ac0df6f1c7c2dd24c93ef4087.jpg', 'square': 'http://jajohnst.si676.si.umich.edu/omeka-s/files/square/21493fcf39a5487ac0df6f1c7c2dd24c93ef4087.jpg'}, 'o:created': {'@value': '2025-10-30T21:31:46+00:00', '@type': 'http://www.w3.org/2001/XMLSchema#dateTime'}, 'o:modified': {'@value': '2025-10-30T21:42:51+00:00', '@type': 'http://www.w3.org/2001/XMLSchema#dateTime'}, 'o:primary_media': {'@id': 'http://jajohnst.si676.si.umich.edu/omeka-s/api/media/137', 'o:id': 137}, 'o:media': [{'@id': 'http://jajohnst.si676.si.umich.edu/omeka-s/api/media/137', 'o:id': 137}], 'o:item_set': [{'@id': 'http://jajohnst.si676.si.umich.edu/omeka-s/api/item_sets/194', 'o:id': 194}], 'o:site': [{'@id': 'http://jajohnst.si676.si.umich.edu/omeka-s/api/sites/1', 'o:id': 1}], 'dcterms:title': [{'type': 'literal', 'property_id': 1, 'property_label': 'Title', 'is_public': True, '@value': 'Historic library in the North Carolina Capitol in Raleigh', '@language': 'en'}], 'dcterms:identifier': [{'type': 'literal', 'property_id': 10, 'property_label': 'Identifier', 'is_public': True, '@value': '2017880767'}, {'type': 'literal', 'property_id': 10, 'property_label': 'Identifier', 'is_public': True, '@value': 'https://www.loc.gov/item/2017880767/'}], 'dcterms:created': [{'type': 'literal', 'property_id': 20, 'property_label': 'Date Created', 'is_public': True, '@value': '2017-01-01'}], 'dcterms:type': [{'type': 'literal', 'property_id': 8, 'property_label': 'Type', 'is_public': True, '@value': 'Image'}], 'dcterms:rights': [{'type': 'literal', 'property_id': 15, 'property_label': 'Rights', 'is_public': True, '@value': 'No known restrictions on publication.'}]}\n",
      "{'@context': 'http://jajohnst.si676.si.umich.edu/omeka-s/api-context', '@id': 'http://jajohnst.si676.si.umich.edu/omeka-s/api/items/129', '@type': ['o:Item', 'dctype:Image'], 'o:id': 129, 'o:is_public': True, 'o:owner': {'@id': 'http://jajohnst.si676.si.umich.edu/omeka-s/api/users/1', 'o:id': 1}, 'o:resource_class': {'@id': 'http://jajohnst.si676.si.umich.edu/omeka-s/api/resource_classes/26', 'o:id': 26}, 'o:resource_template': None, 'o:thumbnail': None, 'o:title': 'The Cook Memorial Library, the public library of Tamworth, New Hampshire. The 1895 Queen Anne Victorian building began as a private \"social library\" established by Parson Samuel Hidden; the building was given to the village in memory of Charles Cook, a prominent local businessman and politician', 'thumbnail_display_urls': {'large': 'http://jajohnst.si676.si.umich.edu/omeka-s/files/large/9ef044334291cec28ef3c813daa3422218c9db47.jpg', 'medium': 'http://jajohnst.si676.si.umich.edu/omeka-s/files/medium/9ef044334291cec28ef3c813daa3422218c9db47.jpg', 'square': 'http://jajohnst.si676.si.umich.edu/omeka-s/files/square/9ef044334291cec28ef3c813daa3422218c9db47.jpg'}, 'o:created': {'@value': '2025-10-30T21:31:47+00:00', '@type': 'http://www.w3.org/2001/XMLSchema#dateTime'}, 'o:modified': {'@value': '2025-10-30T21:42:51+00:00', '@type': 'http://www.w3.org/2001/XMLSchema#dateTime'}, 'o:primary_media': {'@id': 'http://jajohnst.si676.si.umich.edu/omeka-s/api/media/138', 'o:id': 138}, 'o:media': [{'@id': 'http://jajohnst.si676.si.umich.edu/omeka-s/api/media/138', 'o:id': 138}], 'o:item_set': [{'@id': 'http://jajohnst.si676.si.umich.edu/omeka-s/api/item_sets/194', 'o:id': 194}], 'o:site': [{'@id': 'http://jajohnst.si676.si.umich.edu/omeka-s/api/sites/1', 'o:id': 1}], 'dcterms:title': [{'type': 'literal', 'property_id': 1, 'property_label': 'Title', 'is_public': True, '@value': 'The Cook Memorial Library, the public library of Tamworth, New Hampshire. The 1895 Queen Anne Victorian building began as a private \"social library\" established by Parson Samuel Hidden; the building was given to the village in memory of Charles Cook, a prominent local businessman and politician', '@language': 'en'}], 'dcterms:identifier': [{'type': 'literal', 'property_id': 10, 'property_label': 'Identifier', 'is_public': True, '@value': '2017884872'}, {'type': 'literal', 'property_id': 10, 'property_label': 'Identifier', 'is_public': True, '@value': 'https://www.loc.gov/item/2017884872/'}], 'dcterms:created': [{'type': 'literal', 'property_id': 20, 'property_label': 'Date Created', 'is_public': True, '@value': '2017-01-01'}], 'dcterms:type': [{'type': 'literal', 'property_id': 8, 'property_label': 'Type', 'is_public': True, '@value': 'Image'}], 'dcterms:rights': [{'type': 'literal', 'property_id': 15, 'property_label': 'Rights', 'is_public': True, '@value': 'No known restrictions on publication.'}]}\n",
      "{'@context': 'http://jajohnst.si676.si.umich.edu/omeka-s/api-context', '@id': 'http://jajohnst.si676.si.umich.edu/omeka-s/api/items/130', '@type': ['o:Item', 'dctype:Image'], 'o:id': 130, 'o:is_public': True, 'o:owner': {'@id': 'http://jajohnst.si676.si.umich.edu/omeka-s/api/users/1', 'o:id': 1}, 'o:resource_class': {'@id': 'http://jajohnst.si676.si.umich.edu/omeka-s/api/resource_classes/26', 'o:id': 26}, 'o:resource_template': None, 'o:thumbnail': None, 'o:title': 'Reading room for blind, Library of Congress, [Washington, D.C.]', 'thumbnail_display_urls': {'large': 'http://jajohnst.si676.si.umich.edu/omeka-s/files/large/51a7c0d9d9a962bb6a7d79cdd8be4098a955aeb9.jpg', 'medium': 'http://jajohnst.si676.si.umich.edu/omeka-s/files/medium/51a7c0d9d9a962bb6a7d79cdd8be4098a955aeb9.jpg', 'square': 'http://jajohnst.si676.si.umich.edu/omeka-s/files/square/51a7c0d9d9a962bb6a7d79cdd8be4098a955aeb9.jpg'}, 'o:created': {'@value': '2025-10-30T21:31:48+00:00', '@type': 'http://www.w3.org/2001/XMLSchema#dateTime'}, 'o:modified': {'@value': '2025-10-30T21:42:51+00:00', '@type': 'http://www.w3.org/2001/XMLSchema#dateTime'}, 'o:primary_media': {'@id': 'http://jajohnst.si676.si.umich.edu/omeka-s/api/media/139', 'o:id': 139}, 'o:media': [{'@id': 'http://jajohnst.si676.si.umich.edu/omeka-s/api/media/139', 'o:id': 139}], 'o:item_set': [{'@id': 'http://jajohnst.si676.si.umich.edu/omeka-s/api/item_sets/194', 'o:id': 194}], 'o:site': [{'@id': 'http://jajohnst.si676.si.umich.edu/omeka-s/api/sites/1', 'o:id': 1}], 'dcterms:title': [{'type': 'literal', 'property_id': 1, 'property_label': 'Title', 'is_public': True, '@value': 'Reading room for blind, Library of Congress, [Washington, D.C.]', '@language': 'en'}], 'dcterms:identifier': [{'type': 'literal', 'property_id': 10, 'property_label': 'Identifier', 'is_public': True, '@value': '2016851550'}, {'type': 'literal', 'property_id': 10, 'property_label': 'Identifier', 'is_public': True, '@value': 'https://www.loc.gov/item/2016851550/'}], 'dcterms:created': [{'type': 'literal', 'property_id': 20, 'property_label': 'Date Created', 'is_public': True, '@value': '1920-01-01'}], 'dcterms:type': [{'type': 'literal', 'property_id': 8, 'property_label': 'Type', 'is_public': True, '@value': 'Image'}], 'dcterms:rights': [{'type': 'literal', 'property_id': 15, 'property_label': 'Rights', 'is_public': True, '@value': 'No known restrictions on publication. For more information, see National Photo Company Collection - Rights and Restrictions Information https://www.loc.gov/rr/print/res/275_npco.html'}]}\n",
      "{'@context': 'http://jajohnst.si676.si.umich.edu/omeka-s/api-context', '@id': 'http://jajohnst.si676.si.umich.edu/omeka-s/api/items/131', '@type': ['o:Item', 'dctype:Image'], 'o:id': 131, 'o:is_public': True, 'o:owner': {'@id': 'http://jajohnst.si676.si.umich.edu/omeka-s/api/users/1', 'o:id': 1}, 'o:resource_class': {'@id': 'http://jajohnst.si676.si.umich.edu/omeka-s/api/resource_classes/26', 'o:id': 26}, 'o:resource_template': None, 'o:thumbnail': None, 'o:title': '[Reading Room, Billings Memorial Library, University of Vermont, Burlington, Vermont]', 'thumbnail_display_urls': {'large': 'http://jajohnst.si676.si.umich.edu/omeka-s/files/large/f80a3fae69ae734bf49dc54c598a3b26b761b2b4.jpg', 'medium': 'http://jajohnst.si676.si.umich.edu/omeka-s/files/medium/f80a3fae69ae734bf49dc54c598a3b26b761b2b4.jpg', 'square': 'http://jajohnst.si676.si.umich.edu/omeka-s/files/square/f80a3fae69ae734bf49dc54c598a3b26b761b2b4.jpg'}, 'o:created': {'@value': '2025-10-30T21:31:48+00:00', '@type': 'http://www.w3.org/2001/XMLSchema#dateTime'}, 'o:modified': {'@value': '2025-10-30T21:42:51+00:00', '@type': 'http://www.w3.org/2001/XMLSchema#dateTime'}, 'o:primary_media': {'@id': 'http://jajohnst.si676.si.umich.edu/omeka-s/api/media/140', 'o:id': 140}, 'o:media': [{'@id': 'http://jajohnst.si676.si.umich.edu/omeka-s/api/media/140', 'o:id': 140}], 'o:item_set': [{'@id': 'http://jajohnst.si676.si.umich.edu/omeka-s/api/item_sets/194', 'o:id': 194}], 'o:site': [{'@id': 'http://jajohnst.si676.si.umich.edu/omeka-s/api/sites/1', 'o:id': 1}], 'dcterms:title': [{'type': 'literal', 'property_id': 1, 'property_label': 'Title', 'is_public': True, '@value': '[Reading Room, Billings Memorial Library, University of Vermont, Burlington, Vermont]', '@language': 'en'}], 'dcterms:identifier': [{'type': 'literal', 'property_id': 10, 'property_label': 'Identifier', 'is_public': True, '@value': '2007684791'}, {'type': 'literal', 'property_id': 10, 'property_label': 'Identifier', 'is_public': True, '@value': 'https://www.loc.gov/item/2007684791/'}], 'dcterms:created': [{'type': 'literal', 'property_id': 20, 'property_label': 'Date Created', 'is_public': True, '@value': '1886-01-01'}], 'dcterms:type': [{'type': 'literal', 'property_id': 8, 'property_label': 'Type', 'is_public': True, '@value': 'Image'}], 'dcterms:rights': [{'type': 'literal', 'property_id': 15, 'property_label': 'Rights', 'is_public': True, '@value': 'No known restrictions on publication.'}]}\n",
      "{'@context': 'http://jajohnst.si676.si.umich.edu/omeka-s/api-context', '@id': 'http://jajohnst.si676.si.umich.edu/omeka-s/api/items/132', '@type': ['o:Item', 'dctype:Image'], 'o:id': 132, 'o:is_public': True, 'o:owner': {'@id': 'http://jajohnst.si676.si.umich.edu/omeka-s/api/users/1', 'o:id': 1}, 'o:resource_class': {'@id': 'http://jajohnst.si676.si.umich.edu/omeka-s/api/resource_classes/26', 'o:id': 26}, 'o:resource_template': None, 'o:thumbnail': None, 'o:title': '[Carnegie library in Pittsburgh, Pennsylvania]', 'thumbnail_display_urls': {'large': 'http://jajohnst.si676.si.umich.edu/omeka-s/files/large/fe2f33266284c3e2f6e46fc42ef272a646d254e5.jpg', 'medium': 'http://jajohnst.si676.si.umich.edu/omeka-s/files/medium/fe2f33266284c3e2f6e46fc42ef272a646d254e5.jpg', 'square': 'http://jajohnst.si676.si.umich.edu/omeka-s/files/square/fe2f33266284c3e2f6e46fc42ef272a646d254e5.jpg'}, 'o:created': {'@value': '2025-10-30T21:31:48+00:00', '@type': 'http://www.w3.org/2001/XMLSchema#dateTime'}, 'o:modified': {'@value': '2025-10-30T21:42:52+00:00', '@type': 'http://www.w3.org/2001/XMLSchema#dateTime'}, 'o:primary_media': {'@id': 'http://jajohnst.si676.si.umich.edu/omeka-s/api/media/141', 'o:id': 141}, 'o:media': [{'@id': 'http://jajohnst.si676.si.umich.edu/omeka-s/api/media/141', 'o:id': 141}], 'o:item_set': [{'@id': 'http://jajohnst.si676.si.umich.edu/omeka-s/api/item_sets/194', 'o:id': 194}], 'o:site': [{'@id': 'http://jajohnst.si676.si.umich.edu/omeka-s/api/sites/1', 'o:id': 1}], 'dcterms:title': [{'type': 'literal', 'property_id': 1, 'property_label': 'Title', 'is_public': True, '@value': '[Carnegie library in Pittsburgh, Pennsylvania]', '@language': 'en'}], 'dcterms:identifier': [{'type': 'literal', 'property_id': 10, 'property_label': 'Identifier', 'is_public': True, '@value': '2007684172'}, {'type': 'literal', 'property_id': 10, 'property_label': 'Identifier', 'is_public': True, '@value': 'https://www.loc.gov/item/2007684172/'}], 'dcterms:created': [{'type': 'literal', 'property_id': 20, 'property_label': 'Date Created', 'is_public': True, '@value': '1900-01-01'}], 'dcterms:type': [{'type': 'literal', 'property_id': 8, 'property_label': 'Type', 'is_public': True, '@value': 'Image'}], 'dcterms:rights': [{'type': 'literal', 'property_id': 15, 'property_label': 'Rights', 'is_public': True, '@value': 'No known restrictions on publication.'}]}\n",
      "{'@context': 'http://jajohnst.si676.si.umich.edu/omeka-s/api-context', '@id': 'http://jajohnst.si676.si.umich.edu/omeka-s/api/items/133', '@type': ['o:Item', 'dctype:Image'], 'o:id': 133, 'o:is_public': True, 'o:owner': {'@id': 'http://jajohnst.si676.si.umich.edu/omeka-s/api/users/1', 'o:id': 1}, 'o:resource_class': {'@id': 'http://jajohnst.si676.si.umich.edu/omeka-s/api/resource_classes/26', 'o:id': 26}, 'o:resource_template': None, 'o:thumbnail': None, 'o:title': 'Main entrance. Boston Public Library', 'thumbnail_display_urls': {'large': 'http://jajohnst.si676.si.umich.edu/omeka-s/files/large/cfa41dc52c2777f46625debd2e91e02d8ff8263c.jpg', 'medium': 'http://jajohnst.si676.si.umich.edu/omeka-s/files/medium/cfa41dc52c2777f46625debd2e91e02d8ff8263c.jpg', 'square': 'http://jajohnst.si676.si.umich.edu/omeka-s/files/square/cfa41dc52c2777f46625debd2e91e02d8ff8263c.jpg'}, 'o:created': {'@value': '2025-10-30T21:31:49+00:00', '@type': 'http://www.w3.org/2001/XMLSchema#dateTime'}, 'o:modified': {'@value': '2025-10-30T21:42:52+00:00', '@type': 'http://www.w3.org/2001/XMLSchema#dateTime'}, 'o:primary_media': {'@id': 'http://jajohnst.si676.si.umich.edu/omeka-s/api/media/142', 'o:id': 142}, 'o:media': [{'@id': 'http://jajohnst.si676.si.umich.edu/omeka-s/api/media/142', 'o:id': 142}], 'o:item_set': [{'@id': 'http://jajohnst.si676.si.umich.edu/omeka-s/api/item_sets/194', 'o:id': 194}], 'o:site': [{'@id': 'http://jajohnst.si676.si.umich.edu/omeka-s/api/sites/1', 'o:id': 1}], 'dcterms:title': [{'type': 'literal', 'property_id': 1, 'property_label': 'Title', 'is_public': True, '@value': 'Main entrance. Boston Public Library', '@language': 'en'}], 'dcterms:identifier': [{'type': 'literal', 'property_id': 10, 'property_label': 'Identifier', 'is_public': True, '@value': '2007682033'}, {'type': 'literal', 'property_id': 10, 'property_label': 'Identifier', 'is_public': True, '@value': 'https://www.loc.gov/item/2007682033/'}], 'dcterms:created': [{'type': 'literal', 'property_id': 20, 'property_label': 'Date Created', 'is_public': True, '@value': '1895-01-01'}], 'dcterms:type': [{'type': 'literal', 'property_id': 8, 'property_label': 'Type', 'is_public': True, '@value': 'Image'}], 'dcterms:rights': [{'type': 'literal', 'property_id': 15, 'property_label': 'Rights', 'is_public': True, '@value': 'No known restrictions on publication.'}]}\n",
      "{'@context': 'http://jajohnst.si676.si.umich.edu/omeka-s/api-context', '@id': 'http://jajohnst.si676.si.umich.edu/omeka-s/api/items/134', '@type': ['o:Item', 'dctype:Image'], 'o:id': 134, 'o:is_public': True, 'o:owner': {'@id': 'http://jajohnst.si676.si.umich.edu/omeka-s/api/users/1', 'o:id': 1}, 'o:resource_class': {'@id': 'http://jajohnst.si676.si.umich.edu/omeka-s/api/resource_classes/26', 'o:id': 26}, 'o:resource_template': None, 'o:thumbnail': None, 'o:title': 'The Library of Congress, Washington', 'thumbnail_display_urls': {'large': 'http://jajohnst.si676.si.umich.edu/omeka-s/files/large/24f33e19d877f584254def77bb7638b9e966fb31.jpg', 'medium': 'http://jajohnst.si676.si.umich.edu/omeka-s/files/medium/24f33e19d877f584254def77bb7638b9e966fb31.jpg', 'square': 'http://jajohnst.si676.si.umich.edu/omeka-s/files/square/24f33e19d877f584254def77bb7638b9e966fb31.jpg'}, 'o:created': {'@value': '2025-10-30T21:31:49+00:00', '@type': 'http://www.w3.org/2001/XMLSchema#dateTime'}, 'o:modified': {'@value': '2025-10-30T21:42:52+00:00', '@type': 'http://www.w3.org/2001/XMLSchema#dateTime'}, 'o:primary_media': {'@id': 'http://jajohnst.si676.si.umich.edu/omeka-s/api/media/143', 'o:id': 143}, 'o:media': [{'@id': 'http://jajohnst.si676.si.umich.edu/omeka-s/api/media/143', 'o:id': 143}], 'o:item_set': [{'@id': 'http://jajohnst.si676.si.umich.edu/omeka-s/api/item_sets/194', 'o:id': 194}], 'o:site': [{'@id': 'http://jajohnst.si676.si.umich.edu/omeka-s/api/sites/1', 'o:id': 1}], 'dcterms:title': [{'type': 'literal', 'property_id': 1, 'property_label': 'Title', 'is_public': True, '@value': 'The Library of Congress, Washington', '@language': 'en'}], 'dcterms:identifier': [{'type': 'literal', 'property_id': 10, 'property_label': 'Identifier', 'is_public': True, '@value': '2008678216'}, {'type': 'literal', 'property_id': 10, 'property_label': 'Identifier', 'is_public': True, '@value': 'https://www.loc.gov/item/2008678216/'}], 'dcterms:created': [{'type': 'literal', 'property_id': 20, 'property_label': 'Date Created', 'is_public': True, '@value': '1902-01-01'}], 'dcterms:type': [{'type': 'literal', 'property_id': 8, 'property_label': 'Type', 'is_public': True, '@value': 'Image'}], 'dcterms:rights': [{'type': 'literal', 'property_id': 15, 'property_label': 'Rights', 'is_public': True, '@value': 'No known restrictions on publication.'}]}\n",
      "{'@context': 'http://jajohnst.si676.si.umich.edu/omeka-s/api-context', '@id': 'http://jajohnst.si676.si.umich.edu/omeka-s/api/items/135', '@type': ['o:Item', 'dctype:Image'], 'o:id': 135, 'o:is_public': True, 'o:owner': {'@id': 'http://jajohnst.si676.si.umich.edu/omeka-s/api/users/1', 'o:id': 1}, 'o:resource_class': {'@id': 'http://jajohnst.si676.si.umich.edu/omeka-s/api/resource_classes/26', 'o:id': 26}, 'o:resource_template': None, 'o:thumbnail': None, 'o:title': '[Carnegie library, (Taunton, Mass.). Elevation]', 'thumbnail_display_urls': {'large': 'http://jajohnst.si676.si.umich.edu/omeka-s/files/large/5d1e8f8e84aef83a217081400092e0e841f7c42c.jpg', 'medium': 'http://jajohnst.si676.si.umich.edu/omeka-s/files/medium/5d1e8f8e84aef83a217081400092e0e841f7c42c.jpg', 'square': 'http://jajohnst.si676.si.umich.edu/omeka-s/files/square/5d1e8f8e84aef83a217081400092e0e841f7c42c.jpg'}, 'o:created': {'@value': '2025-10-30T21:31:49+00:00', '@type': 'http://www.w3.org/2001/XMLSchema#dateTime'}, 'o:modified': {'@value': '2025-10-30T21:42:52+00:00', '@type': 'http://www.w3.org/2001/XMLSchema#dateTime'}, 'o:primary_media': {'@id': 'http://jajohnst.si676.si.umich.edu/omeka-s/api/media/144', 'o:id': 144}, 'o:media': [{'@id': 'http://jajohnst.si676.si.umich.edu/omeka-s/api/media/144', 'o:id': 144}], 'o:item_set': [{'@id': 'http://jajohnst.si676.si.umich.edu/omeka-s/api/item_sets/194', 'o:id': 194}], 'o:site': [{'@id': 'http://jajohnst.si676.si.umich.edu/omeka-s/api/sites/1', 'o:id': 1}], 'dcterms:title': [{'type': 'literal', 'property_id': 1, 'property_label': 'Title', 'is_public': True, '@value': '[Carnegie library, (Taunton, Mass.). Elevation]', '@language': 'en'}], 'dcterms:identifier': [{'type': 'literal', 'property_id': 10, 'property_label': 'Identifier', 'is_public': True, '@value': '96514755'}, {'type': 'literal', 'property_id': 10, 'property_label': 'Identifier', 'is_public': True, '@value': 'https://www.loc.gov/item/96514755/'}], 'dcterms:created': [{'type': 'literal', 'property_id': 20, 'property_label': 'Date Created', 'is_public': True, '@value': '1903-01-01'}], 'dcterms:type': [{'type': 'literal', 'property_id': 8, 'property_label': 'Type', 'is_public': True, '@value': 'Image'}], 'dcterms:rights': [{'type': 'literal', 'property_id': 15, 'property_label': 'Rights', 'is_public': True, '@value': 'No known restrictions on publication.'}]}\n",
      "{'@context': 'http://jajohnst.si676.si.umich.edu/omeka-s/api-context', '@id': 'http://jajohnst.si676.si.umich.edu/omeka-s/api/items/136', '@type': ['o:Item', 'dctype:Image'], 'o:id': 136, 'o:is_public': True, 'o:owner': {'@id': 'http://jajohnst.si676.si.umich.edu/omeka-s/api/users/1', 'o:id': 1}, 'o:resource_class': {'@id': 'http://jajohnst.si676.si.umich.edu/omeka-s/api/resource_classes/26', 'o:id': 26}, 'o:resource_template': None, 'o:thumbnail': None, 'o:title': '[Interior view of library reading room with male and female students sitting at tables, reading, at the Tuskegee Institute]', 'thumbnail_display_urls': {'large': 'http://jajohnst.si676.si.umich.edu/omeka-s/files/large/f3b4f9eab4646659628353f2c7c5730d87831e86.jpg', 'medium': 'http://jajohnst.si676.si.umich.edu/omeka-s/files/medium/f3b4f9eab4646659628353f2c7c5730d87831e86.jpg', 'square': 'http://jajohnst.si676.si.umich.edu/omeka-s/files/square/f3b4f9eab4646659628353f2c7c5730d87831e86.jpg'}, 'o:created': {'@value': '2025-10-30T21:31:50+00:00', '@type': 'http://www.w3.org/2001/XMLSchema#dateTime'}, 'o:modified': {'@value': '2025-10-30T21:42:52+00:00', '@type': 'http://www.w3.org/2001/XMLSchema#dateTime'}, 'o:primary_media': {'@id': 'http://jajohnst.si676.si.umich.edu/omeka-s/api/media/145', 'o:id': 145}, 'o:media': [{'@id': 'http://jajohnst.si676.si.umich.edu/omeka-s/api/media/145', 'o:id': 145}], 'o:item_set': [{'@id': 'http://jajohnst.si676.si.umich.edu/omeka-s/api/item_sets/194', 'o:id': 194}], 'o:site': [{'@id': 'http://jajohnst.si676.si.umich.edu/omeka-s/api/sites/1', 'o:id': 1}], 'dcterms:title': [{'type': 'literal', 'property_id': 1, 'property_label': 'Title', 'is_public': True, '@value': '[Interior view of library reading room with male and female students sitting at tables, reading, at the Tuskegee Institute]', '@language': 'en'}], 'dcterms:identifier': [{'type': 'literal', 'property_id': 10, 'property_label': 'Identifier', 'is_public': True, '@value': '2009632000'}, {'type': 'literal', 'property_id': 10, 'property_label': 'Identifier', 'is_public': True, '@value': 'https://www.loc.gov/item/2009632000/'}], 'dcterms:created': [{'type': 'literal', 'property_id': 20, 'property_label': 'Date Created', 'is_public': True, '@value': '1902-01-01'}], 'dcterms:type': [{'type': 'literal', 'property_id': 8, 'property_label': 'Type', 'is_public': True, '@value': 'Image'}], 'dcterms:rights': [{'type': 'literal', 'property_id': 15, 'property_label': 'Rights', 'is_public': True, '@value': 'No known restrictions on publication.'}]}\n",
      "{'@context': 'http://jajohnst.si676.si.umich.edu/omeka-s/api-context', '@id': 'http://jajohnst.si676.si.umich.edu/omeka-s/api/items/146', '@type': ['o:Item', 'dctype:Image'], 'o:id': 146, 'o:is_public': True, 'o:owner': {'@id': 'http://jajohnst.si676.si.umich.edu/omeka-s/api/users/1', 'o:id': 1}, 'o:resource_class': {'@id': 'http://jajohnst.si676.si.umich.edu/omeka-s/api/resource_classes/26', 'o:id': 26}, 'o:resource_template': None, 'o:thumbnail': None, 'o:title': 'Carnegie Library, Cordele, Georgia', 'thumbnail_display_urls': {'large': 'http://jajohnst.si676.si.umich.edu/omeka-s/files/large/169d72820a8f64cf9179453914abe91b96850fc3.jpg', 'medium': 'http://jajohnst.si676.si.umich.edu/omeka-s/files/medium/169d72820a8f64cf9179453914abe91b96850fc3.jpg', 'square': 'http://jajohnst.si676.si.umich.edu/omeka-s/files/square/169d72820a8f64cf9179453914abe91b96850fc3.jpg'}, 'o:created': {'@value': '2025-10-30T21:31:50+00:00', '@type': 'http://www.w3.org/2001/XMLSchema#dateTime'}, 'o:modified': {'@value': '2025-10-30T21:42:52+00:00', '@type': 'http://www.w3.org/2001/XMLSchema#dateTime'}, 'o:primary_media': {'@id': 'http://jajohnst.si676.si.umich.edu/omeka-s/api/media/157', 'o:id': 157}, 'o:media': [{'@id': 'http://jajohnst.si676.si.umich.edu/omeka-s/api/media/157', 'o:id': 157}], 'o:item_set': [{'@id': 'http://jajohnst.si676.si.umich.edu/omeka-s/api/item_sets/194', 'o:id': 194}], 'o:site': [{'@id': 'http://jajohnst.si676.si.umich.edu/omeka-s/api/sites/1', 'o:id': 1}], 'dcterms:title': [{'type': 'literal', 'property_id': 1, 'property_label': 'Title', 'is_public': True, '@value': 'Carnegie Library, Cordele, Georgia', '@language': 'en'}], 'dcterms:identifier': [{'type': 'literal', 'property_id': 10, 'property_label': 'Identifier', 'is_public': True, '@value': '91787443'}, {'type': 'literal', 'property_id': 10, 'property_label': 'Identifier', 'is_public': True, '@value': 'https://www.loc.gov/item/91787443/'}], 'dcterms:created': [{'type': 'literal', 'property_id': 20, 'property_label': 'Date Created', 'is_public': True, '@value': '1916-01-01'}], 'dcterms:type': [{'type': 'literal', 'property_id': 8, 'property_label': 'Type', 'is_public': True, '@value': 'Image'}], 'dcterms:rights': [{'type': 'literal', 'property_id': 15, 'property_label': 'Rights', 'is_public': True, '@value': 'No known restrictions on publication.'}]}\n"
     ]
    }
   ],
   "source": [
    "for element in r.json():\n",
    "    print(element)"
   ]
  },
  {
   "cell_type": "code",
   "execution_count": 11,
   "metadata": {},
   "outputs": [
    {
     "name": "stdout",
     "output_type": "stream",
     "text": [
      "98 : Carnegie Library, Cordele, Georgia\n",
      "99 : Carnegie Library, Sheldon, Iowa\n",
      "100 : Curb service 10,000 current books - convenient, free, time saving : Chicago Public Library, Randolph St. corridor.\n",
      "101 : For greater knowledge on more subjects use your library more often\n",
      "102 : [Cossitt Library, Memphis, Tenn.]\n",
      "103 : Little Rock Public Library, Little Rock, Ark.\n",
      "104 : Newspaper reading room of public library. Omaha, Nebraska\n",
      "105 : Public library in the southwestern section of Mississippi, in the piney woods\n",
      "106 : Library tent at the FSA (Farm Security Administration) mobile camp for migratory farm workers. Odell, Oregon. The girls working in the library receive credit in the Junior Campers League for work in the library\n",
      "107 : Daytona Beach, Florida. Bethune-Cookman College. Students in the library reading room\n",
      "108 : Libraries, Washington D.C.\n",
      "120 : George Peabody Library, formerly the Library of the Peabody Institute of the City of Baltimore, is part of the Johns Hopkins Sheridan Libraries. Baltimore, Maryland\n",
      "121 : Handley Library, Winchester, Virginia\n",
      "122 : Public library building in the town of Antonito in Conejos County, Colorado, near the New Mexico border\n",
      "123 : Modernist stairway and bookstacks inside the Allen County Public Library in Fort Wayne, Indiana\n",
      "128 : Historic library in the North Carolina Capitol in Raleigh\n",
      "129 : The Cook Memorial Library, the public library of Tamworth, New Hampshire. The 1895 Queen Anne Victorian building began as a private \"social library\" established by Parson Samuel Hidden; the building was given to the village in memory of Charles Cook, a prominent local businessman and politician\n",
      "130 : Reading room for blind, Library of Congress, [Washington, D.C.]\n",
      "131 : [Reading Room, Billings Memorial Library, University of Vermont, Burlington, Vermont]\n",
      "132 : [Carnegie library in Pittsburgh, Pennsylvania]\n",
      "133 : Main entrance. Boston Public Library\n",
      "134 : The Library of Congress, Washington\n",
      "135 : [Carnegie library, (Taunton, Mass.). Elevation]\n",
      "136 : [Interior view of library reading room with male and female students sitting at tables, reading, at the Tuskegee Institute]\n",
      "146 : Carnegie Library, Cordele, Georgia\n"
     ]
    }
   ],
   "source": [
    "for element in r.json():\n",
    "    print(element['o:id'],':',element['o:title'])"
   ]
  },
  {
   "cell_type": "markdown",
   "metadata": {},
   "source": [
    "### Get the information about just one item"
   ]
  },
  {
   "cell_type": "code",
   "execution_count": 12,
   "metadata": {},
   "outputs": [
    {
     "name": "stdout",
     "output_type": "stream",
     "text": [
      "98\n"
     ]
    }
   ],
   "source": [
    "item_id = r.json()[0]['o:id']\n",
    "print(item_id)"
   ]
  },
  {
   "cell_type": "markdown",
   "metadata": {},
   "source": [
    "Construct a new URI:"
   ]
  },
  {
   "cell_type": "code",
   "execution_count": 13,
   "metadata": {},
   "outputs": [],
   "source": [
    "r_url = siteUrl + endpoint + action + '/' + str(item_id)"
   ]
  },
  {
   "cell_type": "markdown",
   "metadata": {},
   "source": [
    "Make the request:"
   ]
  },
  {
   "cell_type": "code",
   "execution_count": 14,
   "metadata": {},
   "outputs": [
    {
     "name": "stdout",
     "output_type": "stream",
     "text": [
      "http://jajohnst.si676.si.umich.edu/omeka-s/api/items/98?key_credential=nj0K6JAqnFgeqyP3Kq40SOhl6fiPBXky&key_identity=yAu5NAEEtJCvGx4s8XgJSgvTFjwvLD6j&pretty_print=1&format=jsonld\n",
      "200\n"
     ]
    }
   ],
   "source": [
    "r = requests.get(r_url, params=parameters)\n",
    "\n",
    "print(r.url)\n",
    "print(r.status_code)"
   ]
  },
  {
   "cell_type": "code",
   "execution_count": 15,
   "metadata": {},
   "outputs": [
    {
     "data": {
      "text/plain": [
       "{'@context': 'http://jajohnst.si676.si.umich.edu/omeka-s/api-context',\n",
       " '@id': 'http://jajohnst.si676.si.umich.edu/omeka-s/api/items/98',\n",
       " '@type': ['o:Item', 'dctype:Image'],\n",
       " 'o:id': 98,\n",
       " 'o:is_public': True,\n",
       " 'o:owner': {'@id': 'http://jajohnst.si676.si.umich.edu/omeka-s/api/users/1',\n",
       "  'o:id': 1},\n",
       " 'o:resource_class': {'@id': 'http://jajohnst.si676.si.umich.edu/omeka-s/api/resource_classes/26',\n",
       "  'o:id': 26},\n",
       " 'o:resource_template': None,\n",
       " 'o:thumbnail': None,\n",
       " 'o:title': 'Carnegie Library, Cordele, Georgia',\n",
       " 'thumbnail_display_urls': {'large': 'http://jajohnst.si676.si.umich.edu/omeka-s/files/large/8bb5e0ea9033a8059a45b022ebb0d6e5b7a98017.jpg',\n",
       "  'medium': 'http://jajohnst.si676.si.umich.edu/omeka-s/files/medium/8bb5e0ea9033a8059a45b022ebb0d6e5b7a98017.jpg',\n",
       "  'square': 'http://jajohnst.si676.si.umich.edu/omeka-s/files/square/8bb5e0ea9033a8059a45b022ebb0d6e5b7a98017.jpg'},\n",
       " 'o:created': {'@value': '2025-10-30T21:31:40+00:00',\n",
       "  '@type': 'http://www.w3.org/2001/XMLSchema#dateTime'},\n",
       " 'o:modified': {'@value': '2025-10-30T21:42:51+00:00',\n",
       "  '@type': 'http://www.w3.org/2001/XMLSchema#dateTime'},\n",
       " 'o:primary_media': {'@id': 'http://jajohnst.si676.si.umich.edu/omeka-s/api/media/109',\n",
       "  'o:id': 109},\n",
       " 'o:media': [{'@id': 'http://jajohnst.si676.si.umich.edu/omeka-s/api/media/109',\n",
       "   'o:id': 109}],\n",
       " 'o:item_set': [{'@id': 'http://jajohnst.si676.si.umich.edu/omeka-s/api/item_sets/194',\n",
       "   'o:id': 194}],\n",
       " 'o:site': [{'@id': 'http://jajohnst.si676.si.umich.edu/omeka-s/api/sites/1',\n",
       "   'o:id': 1}],\n",
       " 'dcterms:title': [{'type': 'literal',\n",
       "   'property_id': 1,\n",
       "   'property_label': 'Title',\n",
       "   'is_public': True,\n",
       "   '@value': 'Carnegie Library, Cordele, Georgia',\n",
       "   '@language': 'en'}],\n",
       " 'dcterms:identifier': [{'type': 'literal',\n",
       "   'property_id': 10,\n",
       "   'property_label': 'Identifier',\n",
       "   'is_public': True,\n",
       "   '@value': '91787443'},\n",
       "  {'type': 'literal',\n",
       "   'property_id': 10,\n",
       "   'property_label': 'Identifier',\n",
       "   'is_public': True,\n",
       "   '@value': 'https://www.loc.gov/item/91787443/'}],\n",
       " 'dcterms:created': [{'type': 'literal',\n",
       "   'property_id': 20,\n",
       "   'property_label': 'Date Created',\n",
       "   'is_public': True,\n",
       "   '@value': '1916-01-01'}],\n",
       " 'dcterms:type': [{'type': 'literal',\n",
       "   'property_id': 8,\n",
       "   'property_label': 'Type',\n",
       "   'is_public': True,\n",
       "   '@value': 'Image'}],\n",
       " 'dcterms:rights': [{'type': 'literal',\n",
       "   'property_id': 15,\n",
       "   'property_label': 'Rights',\n",
       "   'is_public': True,\n",
       "   '@value': 'No known restrictions on publication.'}]}"
      ]
     },
     "execution_count": 15,
     "metadata": {},
     "output_type": "execute_result"
    }
   ],
   "source": [
    "r.json()"
   ]
  },
  {
   "cell_type": "markdown",
   "metadata": {},
   "source": [
    "Save the item information locally as a json file"
   ]
  },
  {
   "cell_type": "code",
   "execution_count": 16,
   "metadata": {},
   "outputs": [
    {
     "name": "stdout",
     "output_type": "stream",
     "text": [
      "wrote metadata to local file\n"
     ]
    }
   ],
   "source": [
    "with open(f'item-{item_id}-metadata.json', 'w') as f:\n",
    "    f.write(json.dumps(r.json(), indent=2))\n",
    "    print('wrote metadata to local file')"
   ]
  },
  {
   "cell_type": "markdown",
   "metadata": {},
   "source": [
    "## Retrieve multiple items, using a feeder list\n",
    "\n",
    "Based on the full inventory from the `api/items` action, retrieve individual items:"
   ]
  },
  {
   "cell_type": "code",
   "execution_count": 17,
   "metadata": {},
   "outputs": [
    {
     "name": "stdout",
     "output_type": "stream",
     "text": [
      "http://jajohnst.si676.si.umich.edu/omeka-s/api/items?key_credential=nj0K6JAqnFgeqyP3Kq40SOhl6fiPBXky&key_identity=yAu5NAEEtJCvGx4s8XgJSgvTFjwvLD6j&pretty_print=1&format=jsonld\n",
      "200\n"
     ]
    }
   ],
   "source": [
    "# get all items\n",
    "action = '/items'\n",
    "\n",
    "r_url = siteUrl + endpoint + action\n",
    "\n",
    "r = requests.get(r_url, params=parameters)\n",
    "\n",
    "print(r.url)\n",
    "print(r.status_code)"
   ]
  },
  {
   "cell_type": "code",
   "execution_count": 18,
   "metadata": {},
   "outputs": [
    {
     "name": "stdout",
     "output_type": "stream",
     "text": [
      "[98, 99, 100, 101, 102, 103, 104, 105, 106, 107, 108, 120, 121, 122, 123, 128, 129, 130, 131, 132, 133, 134, 135, 136, 146]\n"
     ]
    }
   ],
   "source": [
    "# record each item id in a list\n",
    "item_list = list()\n",
    "\n",
    "for item in r.json():\n",
    "    item_list.append(item['o:id'])\n",
    "\n",
    "print(item_list)"
   ]
  },
  {
   "cell_type": "code",
   "execution_count": 19,
   "metadata": {},
   "outputs": [
    {
     "name": "stdout",
     "output_type": "stream",
     "text": [
      "requesting http://jajohnst.si676.si.umich.edu/omeka-s/api/items/98\n",
      "saved to file item-98-metadata.json\n",
      "requesting http://jajohnst.si676.si.umich.edu/omeka-s/api/items/99\n",
      "saved to file item-99-metadata.json\n",
      "requesting http://jajohnst.si676.si.umich.edu/omeka-s/api/items/100\n",
      "saved to file item-100-metadata.json\n",
      "requesting http://jajohnst.si676.si.umich.edu/omeka-s/api/items/101\n",
      "saved to file item-101-metadata.json\n",
      "requesting http://jajohnst.si676.si.umich.edu/omeka-s/api/items/102\n",
      "saved to file item-102-metadata.json\n",
      "requesting http://jajohnst.si676.si.umich.edu/omeka-s/api/items/103\n",
      "saved to file item-103-metadata.json\n",
      "requesting http://jajohnst.si676.si.umich.edu/omeka-s/api/items/104\n",
      "saved to file item-104-metadata.json\n",
      "requesting http://jajohnst.si676.si.umich.edu/omeka-s/api/items/105\n",
      "saved to file item-105-metadata.json\n",
      "requesting http://jajohnst.si676.si.umich.edu/omeka-s/api/items/106\n",
      "saved to file item-106-metadata.json\n",
      "requesting http://jajohnst.si676.si.umich.edu/omeka-s/api/items/107\n",
      "saved to file item-107-metadata.json\n",
      "requesting http://jajohnst.si676.si.umich.edu/omeka-s/api/items/108\n",
      "saved to file item-108-metadata.json\n",
      "requesting http://jajohnst.si676.si.umich.edu/omeka-s/api/items/120\n",
      "saved to file item-120-metadata.json\n",
      "requesting http://jajohnst.si676.si.umich.edu/omeka-s/api/items/121\n",
      "saved to file item-121-metadata.json\n",
      "requesting http://jajohnst.si676.si.umich.edu/omeka-s/api/items/122\n",
      "saved to file item-122-metadata.json\n",
      "requesting http://jajohnst.si676.si.umich.edu/omeka-s/api/items/123\n",
      "saved to file item-123-metadata.json\n",
      "requesting http://jajohnst.si676.si.umich.edu/omeka-s/api/items/128\n",
      "saved to file item-128-metadata.json\n",
      "requesting http://jajohnst.si676.si.umich.edu/omeka-s/api/items/129\n",
      "saved to file item-129-metadata.json\n",
      "requesting http://jajohnst.si676.si.umich.edu/omeka-s/api/items/130\n",
      "saved to file item-130-metadata.json\n",
      "requesting http://jajohnst.si676.si.umich.edu/omeka-s/api/items/131\n",
      "saved to file item-131-metadata.json\n",
      "requesting http://jajohnst.si676.si.umich.edu/omeka-s/api/items/132\n",
      "saved to file item-132-metadata.json\n",
      "requesting http://jajohnst.si676.si.umich.edu/omeka-s/api/items/133\n",
      "saved to file item-133-metadata.json\n",
      "requesting http://jajohnst.si676.si.umich.edu/omeka-s/api/items/134\n",
      "saved to file item-134-metadata.json\n",
      "requesting http://jajohnst.si676.si.umich.edu/omeka-s/api/items/135\n",
      "saved to file item-135-metadata.json\n",
      "requesting http://jajohnst.si676.si.umich.edu/omeka-s/api/items/136\n",
      "saved to file item-136-metadata.json\n",
      "requesting http://jajohnst.si676.si.umich.edu/omeka-s/api/items/146\n",
      "saved to file item-146-metadata.json\n",
      "\n",
      "wrote 25 new files\n"
     ]
    }
   ],
   "source": [
    "# retrieve the individual item records and save to a file\n",
    "\n",
    "count = 0\n",
    "\n",
    "for item in item_list:\n",
    "    r_url = siteUrl + endpoint + action + '/' + str(item)\n",
    "    print(f'requesting {r_url}')\n",
    "    r = requests.get(r_url, params=parameters)\n",
    "    fname = 'item-' + str(item) + '-metadata.json'\n",
    "    with open(fname, 'w') as f:\n",
    "        f.write(json.dumps(r.json(), indent=2))\n",
    "    print(f'saved to file {fname}')\n",
    "    count += 1\n",
    "\n",
    "print(f'\\nwrote {count} new files')"
   ]
  },
  {
   "cell_type": "markdown",
   "metadata": {},
   "source": [
    "## Getting the \"Context\"\n",
    "\n",
    "You may have noted each of the keys in the Omeka S JSON responses have a namespace.\n",
    "This is because this response is JSON-LD, or JSON linked data. The `@context` tag refers to the API endpoint where these are defined.\n",
    "In this case, the endpoint is `api-context`. \n",
    "\n",
    "Request the context:"
   ]
  },
  {
   "cell_type": "code",
   "execution_count": 20,
   "metadata": {},
   "outputs": [],
   "source": [
    "r_url = 'http://jajohnst.si676.si.umich.edu/omeka-s/api-context'\n",
    "\n",
    "r = requests.get(r_url, params=parameters)\n",
    "\n",
    "with open('omeka-s-api-context.json', 'w') as f:\n",
    "    f.write(json.dumps(r.json(), indent=2))"
   ]
  },
  {
   "cell_type": "code",
   "execution_count": 21,
   "metadata": {},
   "outputs": [
    {
     "data": {
      "text/plain": [
       "'http://jajohnst.si676.si.umich.edu/omeka-s/api-context?key_credential=nj0K6JAqnFgeqyP3Kq40SOhl6fiPBXky&key_identity=yAu5NAEEtJCvGx4s8XgJSgvTFjwvLD6j&pretty_print=1&format=jsonld'"
      ]
     },
     "execution_count": 21,
     "metadata": {},
     "output_type": "execute_result"
    }
   ],
   "source": [
    "r.url"
   ]
  },
  {
   "cell_type": "code",
   "execution_count": 22,
   "metadata": {},
   "outputs": [
    {
     "data": {
      "text/plain": [
       "{'@context': {'o': 'http://omeka.org/s/vocabs/o#',\n",
       "  'dcterms': 'http://purl.org/dc/terms/',\n",
       "  'dctype': 'http://purl.org/dc/dcmitype/',\n",
       "  'bibo': 'http://purl.org/ontology/bibo/',\n",
       "  'foaf': 'http://xmlns.com/foaf/0.1/',\n",
       "  'mods': 'http://www.loc.gov/mods/rdf/v1#',\n",
       "  'o-cnt': 'http://www.w3.org/2011/content#',\n",
       "  'o-time': 'http://www.w3.org/2006/time#'}}"
      ]
     },
     "execution_count": 22,
     "metadata": {},
     "output_type": "execute_result"
    }
   ],
   "source": [
    "r.json()"
   ]
  }
 ],
 "metadata": {
  "kernelspec": {
   "display_name": "Python 3",
   "language": "python",
   "name": "python3"
  },
  "language_info": {
   "codemirror_mode": {
    "name": "ipython",
    "version": 3
   },
   "file_extension": ".py",
   "mimetype": "text/x-python",
   "name": "python",
   "nbconvert_exporter": "python",
   "pygments_lexer": "ipython3",
   "version": "3.12.5"
  }
 },
 "nbformat": 4,
 "nbformat_minor": 2
}
